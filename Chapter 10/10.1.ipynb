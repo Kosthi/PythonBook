{
 "cells": [
  {
   "cell_type": "code",
   "execution_count": 22,
   "id": "5bebbcf8",
   "metadata": {},
   "outputs": [
    {
     "name": "stdout",
     "output_type": "stream",
     "text": [
      "In Python you can read\n",
      "In Python you can make friend\n",
      "In Python you can make money\n",
      "In Python you can make love\n",
      "In Python you can read\n",
      "In Python you can make friend\n",
      "In Python you can make money\n",
      "In Python you can make love\n",
      "['In Python you can read\\n', 'In Python you can make friend\\n', 'In Python you can make money\\n', 'In Python you can make love']\n",
      "In Python you can read\n",
      "In Python you can make friend\n",
      "In Python you can make money\n",
      "In Python you can make love\n"
     ]
    }
   ],
   "source": [
    "with open('learning_python.txt') as file_object:\n",
    "    content = file_object.read()\n",
    "print(content)\n",
    "\n",
    "with open('learning_python.txt') as file_object:\n",
    "    for line in file_object:\n",
    "        print(line.rstrip())\n",
    "        \n",
    "with open('learning_python.txt') as file_object:\n",
    "    lists = file_object.readlines()\n",
    "\n",
    "for list in lists:\n",
    "    print(list.rstrip())"
   ]
  },
  {
   "cell_type": "code",
   "execution_count": 16,
   "id": "98de749b",
   "metadata": {},
   "outputs": [
    {
     "name": "stdout",
     "output_type": "stream",
     "text": [
      "In C you can read\n",
      "In C you can make friend\n",
      "In C you can make money\n",
      "In C you can make love\n",
      "In Python you can read\n",
      "In Python you can make friend\n",
      "In Python you can make money\n",
      "In Python you can make love\n"
     ]
    }
   ],
   "source": [
    "with open('learning_python.txt') as file:\n",
    "    content = file.read()\n",
    "print(content.replace('Python', 'C'))\n",
    "print(content)"
   ]
  },
  {
   "cell_type": "code",
   "execution_count": null,
   "id": "68da01da",
   "metadata": {},
   "outputs": [],
   "source": []
  }
 ],
 "metadata": {
  "kernelspec": {
   "display_name": "Python 3 (ipykernel)",
   "language": "python",
   "name": "python3"
  },
  "language_info": {
   "codemirror_mode": {
    "name": "ipython",
    "version": 3
   },
   "file_extension": ".py",
   "mimetype": "text/x-python",
   "name": "python",
   "nbconvert_exporter": "python",
   "pygments_lexer": "ipython3",
   "version": "3.9.6"
  }
 },
 "nbformat": 4,
 "nbformat_minor": 5
}
