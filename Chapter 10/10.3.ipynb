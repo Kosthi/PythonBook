{
 "cells": [
  {
   "cell_type": "code",
   "execution_count": 1,
   "id": "71094b64",
   "metadata": {},
   "outputs": [
    {
     "name": "stdout",
     "output_type": "stream",
     "text": [
      "1\n",
      "12\n",
      "13\n",
      "31\n",
      "31\n",
      "62\n",
      "31\n",
      "r\n",
      "Please enter an integer number\n",
      "31\n",
      "31\n",
      "62\n",
      "ff\n",
      "Please enter an integer number\n",
      "33\n",
      "r\n",
      "Please enter an integer number\n",
      "31\n",
      "11\n",
      "42\n",
      "q\n"
     ]
    }
   ],
   "source": [
    "while True:\n",
    "    try:\n",
    "        num1 = int(input())\n",
    "    if num1 == 'q':\n",
    "        break\n",
    "    try:\n",
    "        int(num1)\n",
    "    except ValueError:\n",
    "        print(\"Please enter an integer number\")\n",
    "        continue\n",
    "    num2 = input()\n",
    "    if num2 == 'q':\n",
    "        break\n",
    "    try:\n",
    "        int(num2)\n",
    "    except ValueError:\n",
    "        print('Please enter an integer number')\n",
    "        continue\n",
    "    sum = int(num1) + int(num2)\n",
    "    print(sum)"
   ]
  },
  {
   "cell_type": "code",
   "execution_count": 25,
   "id": "2c219d02",
   "metadata": {},
   "outputs": [
    {
     "name": "stdout",
     "output_type": "stream",
     "text": [
      "cats.txt not found\n",
      "Oppo\n",
      "Orange\n",
      "Pink\n"
     ]
    }
   ],
   "source": [
    "try:\n",
    "    with open('cats.txt') as f1:\n",
    "        print(f1.read().rstrip())\n",
    "except FileNotFoundError:\n",
    "    print('cats.txt not found')\n",
    "try:\n",
    "    with open('dogs.txt') as f2:\n",
    "        print(f2.read().rstrip())\n",
    "except FileNotFoundError:\n",
    "    print('dogs.txt not found')"
   ]
  },
  {
   "cell_type": "code",
   "execution_count": 27,
   "id": "dd40f952",
   "metadata": {},
   "outputs": [
    {
     "name": "stdout",
     "output_type": "stream",
     "text": [
      "dogs.txt not found\n"
     ]
    }
   ],
   "source": [
    "try:\n",
    "    with open('cats.txt') as f1:\n",
    "        print(f1.read().rstrip())\n",
    "except FileNotFoundError:\n",
    "    pass\n",
    "try:\n",
    "    with open('dogs.txt') as f2:\n",
    "        print(f2.read().rstrip())\n",
    "except FileNotFoundError:\n",
    "    print('dogs.txt not found')"
   ]
  },
  {
   "cell_type": "code",
   "execution_count": 56,
   "id": "fee2cee4",
   "metadata": {},
   "outputs": [
    {
     "name": "stdout",
     "output_type": "stream",
     "text": [
      "0\n"
     ]
    }
   ],
   "source": [
    "with open('69845-0.txt') as f1:\n",
    "    content = f1.read()\n",
    "    print(content.count('the '))\n",
    "    with open('69845-0.txt', 'w') as f2:\n",
    "        content = content.replace('the ', 'bage')\n",
    "        f2.write(content)"
   ]
  },
  {
   "cell_type": "code",
   "execution_count": null,
   "id": "37a17cd7",
   "metadata": {},
   "outputs": [],
   "source": []
  }
 ],
 "metadata": {
  "kernelspec": {
   "display_name": "Python 3 (ipykernel)",
   "language": "python",
   "name": "python3"
  },
  "language_info": {
   "codemirror_mode": {
    "name": "ipython",
    "version": 3
   },
   "file_extension": ".py",
   "mimetype": "text/x-python",
   "name": "python",
   "nbconvert_exporter": "python",
   "pygments_lexer": "ipython3",
   "version": "3.9.6"
  }
 },
 "nbformat": 4,
 "nbformat_minor": 5
}
