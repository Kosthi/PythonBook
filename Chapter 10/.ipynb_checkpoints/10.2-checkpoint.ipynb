{
 "cells": [
  {
   "cell_type": "code",
   "execution_count": 2,
   "id": "465f145e",
   "metadata": {},
   "outputs": [
    {
     "name": "stdout",
     "output_type": "stream",
     "text": [
      "Hello, user! What's your name jimyy\n"
     ]
    }
   ],
   "source": [
    "with open('guest.txt', 'w') as file:\n",
    "    name = input(\"Hello, user! What's your name \")\n",
    "    file.write(name)"
   ]
  },
  {
   "cell_type": "code",
   "execution_count": 1,
   "id": "c7bde0ba",
   "metadata": {},
   "outputs": [
    {
     "name": "stdout",
     "output_type": "stream",
     "text": [
      "Hello, user! What's your name ii\n",
      "Hello, user! What's your name oo\n",
      "Hello, user! What's your name wwq\n",
      "Hello, user! What's your name q\n"
     ]
    }
   ],
   "source": [
    "with open('guest_book.txt', 'a') as file:\n",
    "    while True:\n",
    "        name = input(\"Hello, user! What's your name \") + '\\n'\n",
    "        if name == 'q\\n':\n",
    "            break\n",
    "        file.write(name)"
   ]
  },
  {
   "cell_type": "code",
   "execution_count": 18,
   "id": "b6ac408d",
   "metadata": {},
   "outputs": [
    {
     "name": "stdout",
     "output_type": "stream",
     "text": [
      "Mike\n",
      "II\n",
      "OPp\n",
      "q\n",
      "ii\n",
      "oo\n",
      "wwq\n",
      "opp\n"
     ]
    }
   ],
   "source": [
    "with open('guest_book.txt') as file:\n",
    "    content = file.read()\n",
    "\n",
    "print(content.rstrip())"
   ]
  },
  {
   "cell_type": "code",
   "execution_count": 3,
   "id": "53d1ce3f",
   "metadata": {},
   "outputs": [
    {
     "name": "stdout",
     "output_type": "stream",
     "text": [
      "Mike, Why you like programm? dsd\n",
      "II, Why you like programm? ada\n",
      "OPp, Why you like programm? dd\n",
      "da, Why you like programm? d\n",
      "dsd\n",
      "ada\n",
      "dd\n",
      "d\n"
     ]
    }
   ],
   "source": [
    "with open('guest_reason.txt', 'w') as file_reason:\n",
    "    with open('guest_book.txt') as file_book:\n",
    "        str = ''\n",
    "        for line in file_book:\n",
    "            if line.strip():\n",
    "                reason = input(f'{line.rstrip()}, Why you like programm? ') + '\\n'\n",
    "                if reason == 'q\\n':\n",
    "                    break\n",
    "                str += reason\n",
    "    file_reason.write(str)\n",
    "\n",
    "with open('guest_reason.txt') as file:\n",
    "    for line in file:\n",
    "        print(line.rstrip())"
   ]
  },
  {
   "cell_type": "code",
   "execution_count": null,
   "id": "1b377542",
   "metadata": {},
   "outputs": [],
   "source": []
  }
 ],
 "metadata": {
  "kernelspec": {
   "display_name": "Python 3 (ipykernel)",
   "language": "python",
   "name": "python3"
  },
  "language_info": {
   "codemirror_mode": {
    "name": "ipython",
    "version": 3
   },
   "file_extension": ".py",
   "mimetype": "text/x-python",
   "name": "python",
   "nbconvert_exporter": "python",
   "pygments_lexer": "ipython3",
   "version": "3.9.6"
  }
 },
 "nbformat": 4,
 "nbformat_minor": 5
}
