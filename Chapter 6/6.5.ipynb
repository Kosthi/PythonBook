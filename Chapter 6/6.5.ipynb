{
 "cells": [
  {
   "cell_type": "code",
   "execution_count": 6,
   "id": "086c32ac",
   "metadata": {},
   "outputs": [
    {
     "name": "stdout",
     "output_type": "stream",
     "text": [
      "You ordered a thick-crust pizza with the following toppings:\n",
      "mushrooms\n",
      "extra cheese\n"
     ]
    }
   ],
   "source": [
    "# 存储所点比萨的信息。\n",
    "pizza = {\n",
    "      'crust': 'thick',\n",
    "      'toppings': ['mushrooms', 'extra cheese'],\n",
    "      }\n",
    "\n",
    "  # 概述所点的比萨。\n",
    "print(f\"You ordered a {pizza['crust']}-crust pizza \"\n",
    "      \"with the following toppings:\")\n",
    "\n",
    "for topping in pizza['toppings']:\n",
    "      print(f\"{topping}\")"
   ]
  },
  {
   "cell_type": "code",
   "execution_count": 9,
   "id": "06de4bfc",
   "metadata": {},
   "outputs": [
    {
     "name": "stdout",
     "output_type": "stream",
     "text": [
      "Your name is WuYimin, age is 18, city is Wenzhou\n",
      "Your name is WuYi, age is 20, city is Hangzhou\n",
      "Your name is WuPeng, age is 22, city is Changsha\n"
     ]
    }
   ],
   "source": [
    "person0 = {'last_name': 'Yimin', 'first_name': 'Wu', 'age': 18, 'city': 'Wenzhou'}\n",
    "person1 = {'last_name': 'Yi', 'first_name': 'Wu', 'age': 20, 'city': 'Hangzhou'}\n",
    "person2 = {'last_name': 'Peng', 'first_name': 'Wu', 'age': 22, 'city': 'Changsha'}\n",
    "people = [person0, person1, person2]\n",
    "for men in people:\n",
    "    print(f\"Your name is {men['first_name']}{men['last_name']}, age is {men['age']}, city is {men['city']}\")"
   ]
  },
  {
   "cell_type": "code",
   "execution_count": 11,
   "id": "3705821c",
   "metadata": {},
   "outputs": [
    {
     "name": "stdout",
     "output_type": "stream",
     "text": [
      "cat, you host is John\n",
      "lion, you host is io\n",
      "dog, you host is ui\n"
     ]
    }
   ],
   "source": [
    "animal1 = {'host': 'John', 'type': 'cat'}\n",
    "animal2 = {'host': 'io', 'type': 'lion'}\n",
    "animal3 = {'host': 'ui', 'type': 'dog'}\n",
    "pets = [animal1, animal2, animal3]\n",
    "for pet in pets:\n",
    "    print(f\"{pet['type']}, you host is {pet['host']}\")"
   ]
  },
  {
   "cell_type": "code",
   "execution_count": 26,
   "id": "2d7fab48",
   "metadata": {},
   "outputs": [
    {
     "name": "stdout",
     "output_type": "stream",
     "text": [
      "Mike, you favorite place is:\n",
      "Bejing\n",
      "Pong\n",
      "Jimmy, you favorite place is:\n",
      "Goo, you favorite place is:\n",
      "OP\n",
      "yy\n",
      "pig, you favorite place is:\n"
     ]
    }
   ],
   "source": [
    "favorite_places = {'Mike': ['Bejing', 'Pong'], 'Jimmy': ['Bejing'], 'Goo': ['OP', 'yy'], 'pig': ['Tyopo']}\n",
    "for name, places in favorite_places.items():\n",
    "    print(f\"{name}, you favorite place is:\")\n",
    "    if len(places) != 1:\n",
    "        for place in places: \n",
    "            print(f\"{place}\")"
   ]
  },
  {
   "cell_type": "code",
   "execution_count": 27,
   "id": "0b2c93ec",
   "metadata": {},
   "outputs": [
    {
     "name": "stdout",
     "output_type": "stream",
     "text": [
      "Mike, you favorite number is:\n",
      "1\n",
      "2\n",
      "Jimmy, you favorite number is:\n",
      "99\n",
      "Goo, you favorite number is:\n",
      "0\n",
      "pig, you favorite number is:\n",
      "71\n",
      "31\n",
      "7\n"
     ]
    }
   ],
   "source": [
    "favorite_numbers = {'Mike': [1, 2], 'Jimmy': [99], 'Goo': [0], 'pig': [71, 31,7]}\n",
    "for name, numbers in favorite_numbers.items():\n",
    "    print(f\"{name}, you favorite number is:\")\n",
    "    for number in numbers: \n",
    "        print(f\"{number}\")"
   ]
  },
  {
   "cell_type": "code",
   "execution_count": 34,
   "id": "eb30566f",
   "metadata": {},
   "outputs": [
    {
     "name": "stdout",
     "output_type": "stream",
     "text": [
      "Wenzhou, I know you:\n",
      "your country is China\n",
      "your people are 10000\n",
      "your fact are Peace\n",
      "\n",
      "\n",
      "Hangzhou, I know you:\n",
      "your country is US\n",
      "your people are 20000\n",
      "your fact are Good\n",
      "\n",
      "\n",
      "Jilin, I know you:\n",
      "your country is UK\n",
      "your people are 90\n",
      "your fact are not good\n",
      "\n",
      "\n"
     ]
    }
   ],
   "source": [
    "cities = {\n",
    "    'Wenzhou': {\n",
    "        'Country': 'China',\n",
    "        'People': 10000,\n",
    "        'Fact': 'Peace',\n",
    "    },\n",
    "    \n",
    "    'Hangzhou': {\n",
    "        'Country': 'US',\n",
    "        'People': 20000,\n",
    "        'Fact': 'Good',\n",
    "    },\n",
    "    \n",
    "    'Jilin': {\n",
    "        'Country': 'UK',\n",
    "        'People': 90,\n",
    "        'Fact': 'not good'\n",
    "    },\n",
    "}\n",
    "\n",
    "for city, info in cities.items():\n",
    "    print(f\"{city}, I know you:\")\n",
    "    print(f\"your country is {info['Country']}\")\n",
    "    print(f\"your people are {info['People']}\")\n",
    "    print(f\"your fact are {info['Fact']}\")\n",
    "    print(\"\\n\")"
   ]
  },
  {
   "cell_type": "code",
   "execution_count": 44,
   "id": "8f02bbbf",
   "metadata": {},
   "outputs": [
    {
     "name": "stdout",
     "output_type": "stream",
     "text": [
      "einstein\n",
      "Can not reach\n"
     ]
    }
   ],
   "source": [
    "users = {\n",
    "      'aeinstein': [\n",
    "          {'first': 'albert'},\n",
    "          {'last': 'einstein'},\n",
    "          {'location': 'princeton'},\n",
    "      ]\n",
    "      }\n",
    "print(users['aeinstein'][1]['last'])\n",
    "print(users['aeinstein'][0].get('location', 'Can not reach'))"
   ]
  },
  {
   "cell_type": "code",
   "execution_count": null,
   "id": "d5d451bf",
   "metadata": {},
   "outputs": [],
   "source": []
  }
 ],
 "metadata": {
  "kernelspec": {
   "display_name": "Python 3 (ipykernel)",
   "language": "python",
   "name": "python3"
  },
  "language_info": {
   "codemirror_mode": {
    "name": "ipython",
    "version": 3
   },
   "file_extension": ".py",
   "mimetype": "text/x-python",
   "name": "python",
   "nbconvert_exporter": "python",
   "pygments_lexer": "ipython3",
   "version": "3.9.6"
  }
 },
 "nbformat": 4,
 "nbformat_minor": 5
}
