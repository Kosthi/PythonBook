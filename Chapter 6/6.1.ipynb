{
 "cells": [
  {
   "cell_type": "code",
   "execution_count": 4,
   "id": "9c44d83d",
   "metadata": {},
   "outputs": [
    {
     "name": "stdout",
     "output_type": "stream",
     "text": [
      "Yimin\n",
      "Wu\n",
      "Wenzhou\n",
      "18\n"
     ]
    }
   ],
   "source": [
    "person = {'last_name': 'Yimin', 'first_name': 'Wu', 'age': 18, 'city': 'Wenzhou'}\n",
    "print(person['last_name'])\n",
    "print(person['first_name'])\n",
    "print(person['city'])\n",
    "print(person['age'])"
   ]
  },
  {
   "cell_type": "code",
   "execution_count": 10,
   "id": "f67a2d2f",
   "metadata": {},
   "outputs": [
    {
     "name": "stdout",
     "output_type": "stream",
     "text": [
      "Mike, you like 1\n",
      "John, you like 12\n",
      "Oppo, you like 10\n",
      "Ui, you like 9\n",
      "Jimmy, you like 14\n"
     ]
    }
   ],
   "source": [
    "numbers = {'Mike': 1, 'John': 12, 'Oppo': 10, 'Ui': 9, 'Jimmy': 14}\n",
    "for number in numbers:\n",
    "    print(f\"{number}, you like {numbers[number]}\")"
   ]
  },
  {
   "cell_type": "code",
   "execution_count": 14,
   "id": "c7e5f741",
   "metadata": {},
   "outputs": [
    {
     "name": "stdout",
     "output_type": "stream",
     "text": [
      "OPP:\n",
      "oject\n",
      "\n",
      "Data hiding:\n",
      "躲起来\n",
      "\n",
      "Kiss:\n",
      "亲亲\n",
      "\n",
      "love:\n",
      "男女之爱\n",
      "\n",
      "high:\n",
      "1.22\n",
      "\n"
     ]
    }
   ],
   "source": [
    "suyus = {'OPP': 'oject', 'Data hiding': '躲起来', 'Kiss': '亲亲', 'love': '男女之爱', 'high': 1.22}\n",
    "for suyu in suyus:\n",
    "    print(f\"{suyu}:\\n{suyus[suyu]}\\n\")"
   ]
  },
  {
   "cell_type": "code",
   "execution_count": null,
   "id": "fbeb624b",
   "metadata": {},
   "outputs": [],
   "source": []
  }
 ],
 "metadata": {
  "kernelspec": {
   "display_name": "Python 3 (ipykernel)",
   "language": "python",
   "name": "python3"
  },
  "language_info": {
   "codemirror_mode": {
    "name": "ipython",
    "version": 3
   },
   "file_extension": ".py",
   "mimetype": "text/x-python",
   "name": "python",
   "nbconvert_exporter": "python",
   "pygments_lexer": "ipython3",
   "version": "3.9.6"
  }
 },
 "nbformat": 4,
 "nbformat_minor": 5
}
