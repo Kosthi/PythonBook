{
 "cells": [
  {
   "cell_type": "code",
   "execution_count": 16,
   "id": "66984b3a",
   "metadata": {},
   "outputs": [
    {
     "name": "stdout",
     "output_type": "stream",
     "text": [
      "Old menu:\n",
      "apple\n",
      "banana\n",
      "orange\n",
      "pink\n",
      "fod\n",
      "\n",
      "New menu:\n",
      "apple\n",
      "banana\n",
      "okk\n",
      "pwwk\n",
      "fod\n"
     ]
    }
   ],
   "source": [
    "menus = (\"apple\", \"banana\", \"orange\", \"pink\", \"fod\")\n",
    "print(\"Old menu:\")\n",
    "for menu in menus:\n",
    "    print(menu)\n",
    "print(\"\\nNew menu:\")\n",
    "# menus[1] = \"pig\"\n",
    "menus = (\"apple\", \"banana\", \"okk\", \"pwwk\", \"fod\")\n",
    "for menu in menus:\n",
    "    print(menu)"
   ]
  },
  {
   "cell_type": "code",
   "execution_count": null,
   "id": "0c14981d",
   "metadata": {},
   "outputs": [],
   "source": []
  }
 ],
 "metadata": {
  "kernelspec": {
   "display_name": "Python 3 (ipykernel)",
   "language": "python",
   "name": "python3"
  },
  "language_info": {
   "codemirror_mode": {
    "name": "ipython",
    "version": 3
   },
   "file_extension": ".py",
   "mimetype": "text/x-python",
   "name": "python",
   "nbconvert_exporter": "python",
   "pygments_lexer": "ipython3",
   "version": "3.9.6"
  }
 },
 "nbformat": 4,
 "nbformat_minor": 5
}
