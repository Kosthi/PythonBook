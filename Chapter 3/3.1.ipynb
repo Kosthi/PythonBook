{
 "cells": [
  {
   "cell_type": "code",
   "execution_count": 1,
   "id": "7eb2295d",
   "metadata": {},
   "outputs": [],
   "source": [
    "names = [\"Koschei\", \"Lithi\", \"Orange\"]"
   ]
  },
  {
   "cell_type": "code",
   "execution_count": 4,
   "id": "56b5f788",
   "metadata": {},
   "outputs": [
    {
     "name": "stdout",
     "output_type": "stream",
     "text": [
      "Koschei\n"
     ]
    }
   ],
   "source": [
    "print(names[0])"
   ]
  },
  {
   "cell_type": "code",
   "execution_count": 6,
   "id": "d921b4b2",
   "metadata": {},
   "outputs": [
    {
     "name": "stdout",
     "output_type": "stream",
     "text": [
      "Koschei, hello, how are you.\n",
      "Lithi, hello, how are you.\n",
      "Orange, hello, how are you.\n"
     ]
    }
   ],
   "source": [
    "for name in names:\n",
    "    print(f\"{name}, hello, how are you.\")"
   ]
  },
  {
   "cell_type": "code",
   "execution_count": 10,
   "id": "06774373",
   "metadata": {},
   "outputs": [
    {
     "name": "stdout",
     "output_type": "stream",
     "text": [
      "I'd like to own a bicyle\n",
      "I'd like to own a car\n",
      "I'd like to own a bus\n"
     ]
    }
   ],
   "source": [
    "commutes = [\"Bicyle\", \"Car\", \"Bus\"]\n",
    "for commute in commutes:\n",
    "    print(f\"I'd like to own a {commute.lower()}\")"
   ]
  },
  {
   "cell_type": "code",
   "execution_count": null,
   "id": "b0a1851a",
   "metadata": {},
   "outputs": [],
   "source": []
  }
 ],
 "metadata": {
  "kernelspec": {
   "display_name": "Python 3 (ipykernel)",
   "language": "python",
   "name": "python3"
  },
  "language_info": {
   "codemirror_mode": {
    "name": "ipython",
    "version": 3
   },
   "file_extension": ".py",
   "mimetype": "text/x-python",
   "name": "python",
   "nbconvert_exporter": "python",
   "pygments_lexer": "ipython3",
   "version": "3.9.6"
  }
 },
 "nbformat": 4,
 "nbformat_minor": 5
}
