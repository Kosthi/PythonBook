{
 "cells": [
  {
   "cell_type": "code",
   "execution_count": 7,
   "id": "e8cf501c",
   "metadata": {},
   "outputs": [],
   "source": [
    "def show_citys(city, country, population = 0):\n",
    "    if population:\n",
    "        return f'{city}, {country} - population {population}'.title()\n",
    "    else:\n",
    "        return f'{city}, {country}'.title()"
   ]
  },
  {
   "cell_type": "code",
   "execution_count": 12,
   "id": "3fab3ab8",
   "metadata": {},
   "outputs": [
    {
     "name": "stderr",
     "output_type": "stream",
     "text": [
      "E\n",
      "======================================================================\n",
      "ERROR: /Users/koschei/Library/Jupyter/runtime/kernel-eea3c075-b082-4f80-910a-72a0a5acf9dd (unittest.loader._FailedTest)\n",
      "----------------------------------------------------------------------\n",
      "AttributeError: module '__main__' has no attribute '/Users/koschei/Library/Jupyter/runtime/kernel-eea3c075-b082-4f80-910a-72a0a5acf9dd'\n",
      "\n",
      "----------------------------------------------------------------------\n",
      "Ran 1 test in 0.001s\n",
      "\n",
      "FAILED (errors=1)\n"
     ]
    },
    {
     "ename": "SystemExit",
     "evalue": "True",
     "output_type": "error",
     "traceback": [
      "An exception has occurred, use %tb to see the full traceback.\n",
      "\u001b[0;31mSystemExit\u001b[0m\u001b[0;31m:\u001b[0m True\n"
     ]
    },
    {
     "name": "stderr",
     "output_type": "stream",
     "text": [
      "/Users/koschei/Library/Python/3.9/lib/python/site-packages/IPython/core/interactiveshell.py:3450: UserWarning: To exit: use 'exit', 'quit', or Ctrl-D.\n",
      "  warn(\"To exit: use 'exit', 'quit', or Ctrl-D.\", stacklevel=1)\n"
     ]
    }
   ],
   "source": [
    "import unittest\n",
    "\n",
    "class CitysTestCase(unittest.TestCase):\n",
    "    def test_city_country(self):\n",
    "        str = show_citys('Beijing', 'China')\n",
    "        self.assertEqual(str, 'Beijing, China')\n",
    "    def test_city_country_population(self):\n",
    "        self.assertEqual(show_citys('Beijing', 'China', 500000), 'Beijing, China - Population 500000')\n",
    "\n",
    "if __name__ == '__main__':\n",
    "    unittest.main()"
   ]
  },
  {
   "cell_type": "code",
   "execution_count": 14,
   "id": "cd9f7d53",
   "metadata": {},
   "outputs": [
    {
     "name": "stdout",
     "output_type": "stream",
     "text": [
      "[NbConvertApp] Converting notebook 11.1.ipynb to script\n",
      "[NbConvertApp] Writing 726 bytes to 11.1.py\n"
     ]
    }
   ],
   "source": [
    "!jupyter nbconvert --to script 11.1.ipynb"
   ]
  },
  {
   "cell_type": "code",
   "execution_count": null,
   "id": "da375661",
   "metadata": {},
   "outputs": [],
   "source": []
  }
 ],
 "metadata": {
  "kernelspec": {
   "display_name": "Python 3 (ipykernel)",
   "language": "python",
   "name": "python3"
  },
  "language_info": {
   "codemirror_mode": {
    "name": "ipython",
    "version": 3
   },
   "file_extension": ".py",
   "mimetype": "text/x-python",
   "name": "python",
   "nbconvert_exporter": "python",
   "pygments_lexer": "ipython3",
   "version": "3.9.6"
  }
 },
 "nbformat": 4,
 "nbformat_minor": 5
}
