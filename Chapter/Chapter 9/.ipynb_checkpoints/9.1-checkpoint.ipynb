{
 "cells": [
  {
   "cell_type": "code",
   "execution_count": 7,
   "id": "affd0beb",
   "metadata": {},
   "outputs": [
    {
     "name": "stdout",
     "output_type": "stream",
     "text": [
      "Jimmy Book\n",
      "Chinese food\n",
      "Jimmy Book   Chinese food\n",
      "Our restaurant is opening! \n"
     ]
    }
   ],
   "source": [
    "class Restaurant:\n",
    "    def __init__(self, restaurant_name, cuisine_type):\n",
    "        self.restaurant_name = restaurant_name\n",
    "        self.cuisine_type = cuisine_type\n",
    "        \n",
    "    def describe_restaurant(self):\n",
    "        print(self.restaurant_name, ' ', self.cuisine_type)\n",
    "        \n",
    "    def open_restaurant(self):\n",
    "        print(\"Our restaurant is opening! \")\n",
    "        \n",
    "restaurant = Restaurant('Jimmy Book', 'Chinese food')\n",
    "print(restaurant.restaurant_name)\n",
    "print(restaurant.cuisine_type)\n",
    "restaurant.describe_restaurant()\n",
    "restaurant.open_restaurant()"
   ]
  },
  {
   "cell_type": "code",
   "execution_count": 10,
   "id": "d336154e",
   "metadata": {},
   "outputs": [
    {
     "name": "stdout",
     "output_type": "stream",
     "text": [
      "Booy Boy   Italy food\n",
      "My Coat Girl   US food\n",
      "Cool Boy   Japan food\n"
     ]
    }
   ],
   "source": [
    "first_restaurant = Restaurant('Booy Boy', 'Italy food')\n",
    "second_restaurant = Restaurant('My Coat Girl', 'US food')\n",
    "third_restaurant = Restaurant('Cool Boy', 'Japan food')\n",
    "first_restaurant.describe_restaurant()\n",
    "second_restaurant.describe_restaurant()\n",
    "third_restaurant.describe_restaurant()"
   ]
  },
  {
   "cell_type": "code",
   "execution_count": 24,
   "id": "eee7aace",
   "metadata": {},
   "outputs": [
    {
     "name": "stdout",
     "output_type": "stream",
     "text": [
      "Name: Wu Yimin Age: 18 Height: 1.88\n",
      "Hello, Wu Yimin\n",
      "Name: Huang Yinan Age: 19 Height: 1.6\n",
      "Hello, Huang Yinan\n"
     ]
    }
   ],
   "source": [
    "class User:\n",
    "    def __init__(self, first_name, last_name, age, height):\n",
    "        self.first_name = first_name\n",
    "        self.last_name = last_name\n",
    "        self.age = age\n",
    "        self.height = height\n",
    "        \n",
    "    def describe_user(self):\n",
    "        print(f\"Name: {self.last_name} {self.first_name} Age: {self.age} Height: {self.height}\")\n",
    "        \n",
    "    def greet_user(self):\n",
    "        print(f\"Hello, {self.last_name} {self.first_name}\")\n",
    "\n",
    "user0 = User('Yimin', 'Wu', 18, 1.88)\n",
    "user0.describe_user()\n",
    "user0.greet_user()\n",
    "\n",
    "user1 = User('Yinan', 'Huang', 19, 1.60)\n",
    "user1.describe_user()\n",
    "user1.greet_user()"
   ]
  },
  {
   "cell_type": "code",
   "execution_count": null,
   "id": "56544ec3",
   "metadata": {},
   "outputs": [],
   "source": []
  }
 ],
 "metadata": {
  "kernelspec": {
   "display_name": "Python 3 (ipykernel)",
   "language": "python",
   "name": "python3"
  },
  "language_info": {
   "codemirror_mode": {
    "name": "ipython",
    "version": 3
   },
   "file_extension": ".py",
   "mimetype": "text/x-python",
   "name": "python",
   "nbconvert_exporter": "python",
   "pygments_lexer": "ipython3",
   "version": "3.9.6"
  }
 },
 "nbformat": 4,
 "nbformat_minor": 5
}
