{
 "cells": [
  {
   "cell_type": "code",
   "execution_count": 4,
   "id": "0308d2c7",
   "metadata": {},
   "outputs": [
    {
     "name": "stdout",
     "output_type": "stream",
     "text": [
      "0\n",
      "100\n",
      "300\n"
     ]
    }
   ],
   "source": [
    "class Restaurant:\n",
    "    def __init__(self, restaurant_name, cuisine_type):\n",
    "        self.restaurant_name = restaurant_name\n",
    "        self.cuisine_type = cuisine_type\n",
    "        self.number_served = 0\n",
    "        \n",
    "    def describe_restaurant(self):\n",
    "        print(self.restaurant_name, ' ', self.cuisine_type)\n",
    "        \n",
    "    def open_restaurant(self):\n",
    "        print(\"Our restaurant is opening! \")\n",
    "        \n",
    "    def set_number_served(self, number_served):\n",
    "        self.number_served = number_served\n",
    "        \n",
    "    def increment_number_served(self, number_served):\n",
    "        self.number_served += number_served\n",
    "\n",
    "restaurant = Restaurant('Jimmy Book', 'Chinese food')\n",
    "print(restaurant.number_served)\n",
    "\n",
    "restaurant.set_number_served(100)\n",
    "print(restaurant.number_served)\n",
    "\n",
    "restaurant.increment_number_served(200)\n",
    "print(restaurant.number_served)"
   ]
  },
  {
   "cell_type": "code",
   "execution_count": 8,
   "id": "0ea1f21d",
   "metadata": {},
   "outputs": [
    {
     "name": "stdout",
     "output_type": "stream",
     "text": [
      "4\n",
      "0\n"
     ]
    }
   ],
   "source": [
    "class User:\n",
    "    def __init__(self, first_name, last_name, age, height):\n",
    "        self.first_name = first_name\n",
    "        self.last_name = last_name\n",
    "        self.age = age\n",
    "        self.height = height\n",
    "        self.login_attempts = 0\n",
    "        \n",
    "    def describe_user(self):\n",
    "        print(f\"Name: {self.last_name} {self.first_name} Age: {self.age} Height: {self.height}\")\n",
    "        \n",
    "    def greet_user(self):\n",
    "        print(f\"Hello, {self.last_name} {self.first_name}\")\n",
    "        \n",
    "    def increment_login_attempts(self):\n",
    "        self.login_attempts += 1\n",
    "        \n",
    "    def reset_login_attempts(self):\n",
    "        self.login_attempts = 0\n",
    "\n",
    "user = User('Yimin', 'Wu', 18, 1.88)\n",
    "user.increment_login_attempts()\n",
    "user.increment_login_attempts()\n",
    "user.increment_login_attempts()\n",
    "user.increment_login_attempts()\n",
    "print(user.login_attempts)\n",
    "user.reset_login_attempts()\n",
    "print(user.login_attempts)"
   ]
  },
  {
   "cell_type": "code",
   "execution_count": null,
   "id": "ee39eafe",
   "metadata": {},
   "outputs": [],
   "source": []
  }
 ],
 "metadata": {
  "kernelspec": {
   "display_name": "Python 3 (ipykernel)",
   "language": "python",
   "name": "python3"
  },
  "language_info": {
   "codemirror_mode": {
    "name": "ipython",
    "version": 3
   },
   "file_extension": ".py",
   "mimetype": "text/x-python",
   "name": "python",
   "nbconvert_exporter": "python",
   "pygments_lexer": "ipython3",
   "version": "3.9.6"
  }
 },
 "nbformat": 4,
 "nbformat_minor": 5
}
