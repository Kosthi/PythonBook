{
 "cells": [
  {
   "cell_type": "code",
   "execution_count": 4,
   "id": "e752de78",
   "metadata": {},
   "outputs": [
    {
     "name": "stdout",
     "output_type": "stream",
     "text": [
      "Apple\n",
      "Orange\n",
      "Banana\n"
     ]
    }
   ],
   "source": [
    "class Restaurant:\n",
    "    def __init__(self, restaurant_name, cuisine_type):\n",
    "        self.restaurant_name = restaurant_name\n",
    "        self.cuisine_type = cuisine_type\n",
    "        self.number_served = 0\n",
    "        \n",
    "    def describe_restaurant(self):\n",
    "        print(self.restaurant_name, ' ', self.cuisine_type)\n",
    "        \n",
    "    def open_restaurant(self):\n",
    "        print(\"Our restaurant is opening! \")\n",
    "        \n",
    "    def set_number_served(self, number_served):\n",
    "        self.number_served = number_served\n",
    "        \n",
    "    def increment_number_served(self, number_served):\n",
    "        self.number_served += number_served\n",
    "\n",
    "class IceCreamStand(Restaurant):\n",
    "    def __init__(self, restaurant_name, cuisine_type):\n",
    "        super().__init__(restaurant_name, cuisine_type)\n",
    "        self.favors = ['Apple', 'Orange', 'Banana']\n",
    "        \n",
    "    def show_favors(self):\n",
    "        for favor in self.favors:\n",
    "            print(f\"{favor}\")\n",
    "\n",
    "iceCreamStand = IceCreamStand('Jimmy Book', 'Chinese food')\n",
    "iceCreamStand.show_favors()"
   ]
  },
  {
   "cell_type": "code",
   "execution_count": 10,
   "id": "f80ef854",
   "metadata": {},
   "outputs": [
    {
     "name": "stdout",
     "output_type": "stream",
     "text": [
      "Can add post\n",
      "Can delete post\n",
      "Can ban user\n"
     ]
    }
   ],
   "source": [
    "class User:\n",
    "    def __init__(self, first_name, last_name, age, height):\n",
    "        self.first_name = first_name\n",
    "        self.last_name = last_name\n",
    "        self.age = age\n",
    "        self.height = height\n",
    "        self.login_attempts = 0\n",
    "        \n",
    "    def describe_user(self):\n",
    "        print(f\"Name: {self.last_name} {self.first_name} Age: {self.age} Height: {self.height}\")\n",
    "        \n",
    "    def greet_user(self):\n",
    "        print(f\"Hello, {self.last_name} {self.first_name}\")\n",
    "        \n",
    "    def increment_login_attempts(self):\n",
    "        self.login_attempts += 1\n",
    "        \n",
    "    def reset_login_attempts(self):\n",
    "        self.login_attempts = 0\n",
    "        \n",
    "class Admin(User):\n",
    "    def __init__(self, first_name, last_name, age, height):\n",
    "        super().__init__(first_name, last_name, age, height)\n",
    "        self.privileges = ['Can add post', 'Can delete post', 'Can ban user']\n",
    "        \n",
    "    def show_privileges(self):\n",
    "        for privilege in self.privileges:\n",
    "            print(f\"{privilege}\")\n",
    "\n",
    "admin = Admin('Yimin', 'Wu', 18, 1.88)\n",
    "admin.show_privileges()"
   ]
  },
  {
   "cell_type": "code",
   "execution_count": 18,
   "id": "f9eb159a",
   "metadata": {},
   "outputs": [
    {
     "name": "stdout",
     "output_type": "stream",
     "text": [
      "Can add post\n",
      "Can delete post\n",
      "Can ban user\n"
     ]
    }
   ],
   "source": [
    "class Admin(User):\n",
    "    def __init__(self, first_name, last_name, age, height):\n",
    "        super().__init__(first_name, last_name, age, height)\n",
    "        self.privileges = Privileges()\n",
    "\n",
    "class Privileges():\n",
    "    def __init__(self):\n",
    "        self.privileges = ['Can add post', 'Can delete post', 'Can ban user']\n",
    "        \n",
    "    def show_privileges(self):\n",
    "        for privilege in self.privileges:\n",
    "            print(f\"{privilege}\")\n",
    "\n",
    "admin = Admin('Yimin', 'Wu', 18, 1.88)\n",
    "admin.privileges.show_privileges()"
   ]
  },
  {
   "cell_type": "code",
   "execution_count": 22,
   "id": "1fbd846e",
   "metadata": {},
   "outputs": [
    {
     "name": "stdout",
     "output_type": "stream",
     "text": [
      "2019 Tesla Model S\n",
      "This car has a 75-kWh battery.\n",
      "This car can go about 260 miles on a full charge.\n",
      "This car can go about 315 miles on a full charge.\n"
     ]
    }
   ],
   "source": [
    "class Car:\n",
    "    \"\"\"一次模拟汽车的简单尝试。\"\"\"\n",
    "    def __init__(self, make, model, year):\n",
    "        self.make = make\n",
    "        self.model = model\n",
    "        self.year = year\n",
    "        self.odometer_reading = 0\n",
    "        \n",
    "    def get_descriptive_name(self):\n",
    "        long_name = f\"{self.year} {self.make} {self.model}\"\n",
    "        return long_name.title()\n",
    "\n",
    "    def read_odometer(self):\n",
    "        print(f\"This car has {self.odometer_reading} miles on it.\")\n",
    "\n",
    "    def update_odometer(self, mileage):\n",
    "        if mileage >= self.odometer_reading:\n",
    "            self.odometer_reading = mileage\n",
    "        else:\n",
    "            print(\"You can't roll back an odometer!\")\n",
    "    def increment_odometer(self, miles):\n",
    "        self.odometer_reading += miles\n",
    "\n",
    "class Battery:\n",
    "    \"\"\"一次模拟电动汽车电瓶的简单尝试。\"\"\"\n",
    "    def __init__(self, battery_size=75):\n",
    "        \"\"\"初始化电瓶的属性。\"\"\"\n",
    "        self.battery_size = battery_size\n",
    "        \n",
    "    def describe_battery(self):\n",
    "        \"\"\"打印一条描述电瓶容量的消息。\"\"\"\n",
    "        print(f\"This car has a {self.battery_size}-kWh battery.\")\n",
    "        \n",
    "    def upgrade_battery(self):\n",
    "        if self.battery_size != 100:\n",
    "            self.battery_size = 100\n",
    "            \n",
    "    def get_range(self):\n",
    "        \"\"\"打印一条消息，指出电瓶的续航里程。\"\"\"\n",
    "        if self.battery_size == 75:\n",
    "            range = 260\n",
    "        elif self.battery_size == 100:\n",
    "            range = 315\n",
    "        print(f\"This car can go about {range} miles on a full charge.\")\n",
    "\n",
    "class ElectricCar(Car):\n",
    "    \"\"\"电动汽车的独特之处。\"\"\"\n",
    "    def __init__(self, make, model, year):\n",
    "        \"\"\"\n",
    "        初始化父类的属性。\n",
    "        再初始化电动汽车特有的属性。\n",
    "        \"\"\"\n",
    "        super().__init__(make, model, year)\n",
    "        self.battery = Battery()\n",
    "\n",
    "my_tesla = ElectricCar('tesla', 'model s', 2019)\n",
    "print(my_tesla.get_descriptive_name())\n",
    "my_tesla.battery.describe_battery()\n",
    "\n",
    "my_tesla.battery.get_range()\n",
    "my_tesla.battery.upgrade_battery()\n",
    "my_tesla.battery.get_range()"
   ]
  },
  {
   "cell_type": "code",
   "execution_count": null,
   "id": "5190e9b3",
   "metadata": {},
   "outputs": [],
   "source": []
  }
 ],
 "metadata": {
  "kernelspec": {
   "display_name": "Python 3 (ipykernel)",
   "language": "python",
   "name": "python3"
  },
  "language_info": {
   "codemirror_mode": {
    "name": "ipython",
    "version": 3
   },
   "file_extension": ".py",
   "mimetype": "text/x-python",
   "name": "python",
   "nbconvert_exporter": "python",
   "pygments_lexer": "ipython3",
   "version": "3.9.6"
  }
 },
 "nbformat": 4,
 "nbformat_minor": 5
}
