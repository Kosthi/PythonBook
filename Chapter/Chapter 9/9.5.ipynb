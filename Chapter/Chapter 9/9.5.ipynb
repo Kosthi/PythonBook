{
 "cells": [
  {
   "cell_type": "code",
   "execution_count": 2,
   "id": "b46a6839",
   "metadata": {},
   "outputs": [
    {
     "name": "stdout",
     "output_type": "stream",
     "text": [
      "6 die:\n",
      "1\n",
      "1\n",
      "3\n",
      "6\n",
      "5\n",
      "3\n",
      "4\n",
      "2\n",
      "1\n",
      "2\n",
      "10 die:\n",
      "6\n",
      "8\n",
      "9\n",
      "2\n",
      "3\n",
      "10\n",
      "4\n",
      "4\n",
      "4\n",
      "2\n",
      "20 die:\n",
      "1\n",
      "13\n",
      "8\n",
      "8\n",
      "4\n",
      "3\n",
      "6\n",
      "9\n",
      "2\n",
      "1\n"
     ]
    }
   ],
   "source": [
    "from random import randint, choice\n",
    "\n",
    "class Die:\n",
    "    def __init__(self, sides = 6):\n",
    "        self.sides = sides\n",
    "        \n",
    "    def roll_die(self):\n",
    "        print(randint(1, self.sides))\n",
    "\n",
    "print(\"6 die:\")\n",
    "die = Die()\n",
    "for i in range(10):\n",
    "    die.roll_die()\n",
    "    \n",
    "print(\"10 die:\")\n",
    "die = Die(10)\n",
    "for i in range(10):\n",
    "    die.roll_die()\n",
    "    \n",
    "print(\"20 die:\")\n",
    "die = Die(20)\n",
    "for i in range(10):\n",
    "    die.roll_die()"
   ]
  },
  {
   "cell_type": "code",
   "execution_count": 39,
   "id": "c2346c21",
   "metadata": {},
   "outputs": [
    {
     "name": "stdout",
     "output_type": "stream",
     "text": [
      "[4, 'B', 'I', 7]\n"
     ]
    }
   ],
   "source": [
    "list = [0, 1, 2, 3, 4, 5, 6, 7, 8, 9, 'A', 'B', 'I', 'P', 'U']\n",
    "get = []\n",
    "for i in range(4):\n",
    "    get.append(choice(list))\n",
    "print(get)"
   ]
  },
  {
   "cell_type": "code",
   "execution_count": 42,
   "id": "3e033f02",
   "metadata": {},
   "outputs": [
    {
     "name": "stdout",
     "output_type": "stream",
     "text": [
      "5064\n"
     ]
    }
   ],
   "source": [
    "my_ticket = []\n",
    "n = 0\n",
    "while True:\n",
    "    if my_ticket == get or n > 10000000:\n",
    "        break\n",
    "    if len(my_ticket) == 4:\n",
    "        my_ticket.clear()\n",
    "    my_ticket.append(choice(list))\n",
    "    n += 1\n",
    "print(n)"
   ]
  },
  {
   "cell_type": "code",
   "execution_count": null,
   "id": "35ef5ae7",
   "metadata": {},
   "outputs": [],
   "source": []
  }
 ],
 "metadata": {
  "kernelspec": {
   "display_name": "Python 3 (ipykernel)",
   "language": "python",
   "name": "python3"
  },
  "language_info": {
   "codemirror_mode": {
    "name": "ipython",
    "version": 3
   },
   "file_extension": ".py",
   "mimetype": "text/x-python",
   "name": "python",
   "nbconvert_exporter": "python",
   "pygments_lexer": "ipython3",
   "version": "3.9.6"
  }
 },
 "nbformat": 4,
 "nbformat_minor": 5
}
