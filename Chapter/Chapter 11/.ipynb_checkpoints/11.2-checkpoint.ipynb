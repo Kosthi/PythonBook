{
 "cells": [
  {
   "cell_type": "code",
   "execution_count": 2,
   "id": "81b67149",
   "metadata": {},
   "outputs": [
    {
     "data": {
      "text/plain": [
       "200000"
      ]
     },
     "execution_count": 2,
     "metadata": {},
     "output_type": "execute_result"
    }
   ],
   "source": [
    "class Employee:\n",
    "    \n",
    "    def __init__(self, first_name, last_name, salary):\n",
    "        self.first_name = first_name\n",
    "        self.last_name = last_name\n",
    "        self.salary = salary\n",
    "    \n",
    "    def give_raise(self, add_salary = 5000):\n",
    "        self.salary += add_salary"
   ]
  },
  {
   "cell_type": "code",
   "execution_count": 9,
   "id": "cfd559af",
   "metadata": {},
   "outputs": [
    {
     "name": "stderr",
     "output_type": "stream",
     "text": [
      "E\n",
      "======================================================================\n",
      "ERROR: /Users/koschei/Library/Jupyter/runtime/kernel-5e647c61-bd78-4eae-92eb-cf34b2124b91 (unittest.loader._FailedTest)\n",
      "----------------------------------------------------------------------\n",
      "AttributeError: module '__main__' has no attribute '/Users/koschei/Library/Jupyter/runtime/kernel-5e647c61-bd78-4eae-92eb-cf34b2124b91'\n",
      "\n",
      "----------------------------------------------------------------------\n",
      "Ran 1 test in 0.001s\n",
      "\n",
      "FAILED (errors=1)\n"
     ]
    },
    {
     "ename": "SystemExit",
     "evalue": "True",
     "output_type": "error",
     "traceback": [
      "An exception has occurred, use %tb to see the full traceback.\n",
      "\u001b[0;31mSystemExit\u001b[0m\u001b[0;31m:\u001b[0m True\n"
     ]
    },
    {
     "name": "stderr",
     "output_type": "stream",
     "text": [
      "/Users/koschei/Library/Python/3.9/lib/python/site-packages/IPython/core/interactiveshell.py:3450: UserWarning: To exit: use 'exit', 'quit', or Ctrl-D.\n",
      "  warn(\"To exit: use 'exit', 'quit', or Ctrl-D.\", stacklevel=1)\n"
     ]
    }
   ],
   "source": [
    "import unittest\n",
    "\n",
    "class TestEmployeeCase(unittest.TestCase):\n",
    "    \n",
    "    def setUp(self):\n",
    "        self.employee = Employee('Yimin', 'Wu', 200000)\n",
    "    \n",
    "    def test_give_default_raise(self):\n",
    "        self.employee.give_raise()\n",
    "        self.assertEqual(205000, self.employee.salary)\n",
    "        \n",
    "    def test_give_custom_raise(self):\n",
    "        self.employee.give_raise(2000)\n",
    "        self.assertEqual(202000, self.employee.salary)\n",
    "        \n",
    "if __name__ == '__main__':\n",
    "    unittest.main()"
   ]
  },
  {
   "cell_type": "code",
   "execution_count": 10,
   "id": "67d14ed9",
   "metadata": {},
   "outputs": [
    {
     "name": "stdout",
     "output_type": "stream",
     "text": [
      "[NbConvertApp] Converting notebook 11.2.ipynb to script\n",
      "[NbConvertApp] Writing 890 bytes to 11.2.py\n"
     ]
    }
   ],
   "source": [
    "!jupyter nbconvert --to script 11.2.ipynb"
   ]
  },
  {
   "cell_type": "code",
   "execution_count": null,
   "id": "5dbf7d4e",
   "metadata": {},
   "outputs": [],
   "source": []
  }
 ],
 "metadata": {
  "kernelspec": {
   "display_name": "Python 3 (ipykernel)",
   "language": "python",
   "name": "python3"
  },
  "language_info": {
   "codemirror_mode": {
    "name": "ipython",
    "version": 3
   },
   "file_extension": ".py",
   "mimetype": "text/x-python",
   "name": "python",
   "nbconvert_exporter": "python",
   "pygments_lexer": "ipython3",
   "version": "3.9.6"
  }
 },
 "nbformat": 4,
 "nbformat_minor": 5
}
