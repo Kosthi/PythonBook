{
 "cells": [
  {
   "cell_type": "code",
   "execution_count": 18,
   "id": "64030f8d",
   "metadata": {},
   "outputs": [
    {
     "name": "stdout",
     "output_type": "stream",
     "text": [
      "I invite Mike\n",
      "I invite John\n",
      "I invite Tony\n"
     ]
    }
   ],
   "source": [
    "people = [\"Mike\", \"John\", \"Tony\"]\n",
    "for man in people:\n",
    "    print(f\"I invite {man.title()}\")"
   ]
  },
  {
   "cell_type": "code",
   "execution_count": 26,
   "id": "7ff6d027",
   "metadata": {},
   "outputs": [
    {
     "name": "stdout",
     "output_type": "stream",
     "text": [
      "John can not come, so we invite Lon\n",
      "I invite Lon\n",
      "I invite Lon\n",
      "I invite Tony\n"
     ]
    }
   ],
   "source": [
    "print(\"John can not come, so we invite Lon\")\n",
    "del people[1]\n",
    "people.insert(0, 'Lon')\n",
    "for man in people:\n",
    "    print(f\"I invite {man.title()}\")"
   ]
  },
  {
   "cell_type": "code",
   "execution_count": 70,
   "id": "439c5396",
   "metadata": {},
   "outputs": [
    {
     "name": "stdout",
     "output_type": "stream",
     "text": [
      "I find a biger table\n",
      "I invite Lon\n",
      "I invite Jimmy\n",
      "I invite Mike\n",
      "I invite John\n",
      "I invite Tony\n",
      "I invite Oppo\n"
     ]
    },
    {
     "data": {
      "text/plain": [
       "6"
      ]
     },
     "execution_count": 70,
     "metadata": {},
     "output_type": "execute_result"
    }
   ],
   "source": [
    "people = [\"Mike\", \"John\", \"Tony\"]\n",
    "print(\"I find a biger table\")\n",
    "people.insert(0, 'Lon')\n",
    "people.insert(1, 'Jimmy')\n",
    "people.append('Oppo')\n",
    "for man in people:\n",
    "    print(f\"I invite {man.title()}\")\n",
    "len(people)"
   ]
  },
  {
   "cell_type": "code",
   "execution_count": 71,
   "id": "ab3bb73d",
   "metadata": {},
   "outputs": [
    {
     "name": "stdout",
     "output_type": "stream",
     "text": [
      "The table is fake\n",
      "Sorry, I can not invite Oppo\n",
      "Sorry, I can not invite Tony\n",
      "Sorry, I can not invite John\n",
      "Sorry, I can not invite Mike\n",
      "Luckily, Mr.Lon, you are invited\n",
      "Luckily, Mr.Jimmy, you are invited\n",
      "[]\n"
     ]
    }
   ],
   "source": [
    "print(\"The table is fake\")\n",
    "for i in range(len(people)):\n",
    "    tmp = people.pop()\n",
    "    print(f\"Sorry, I can not invite {tmp.title()}\")\n",
    "    if len(people) == 2: break\n",
    "for man in people:\n",
    "    print(f\"Luckily, Mr.{man.title()}, you are invited\")\n",
    "for i in range(len(people)):\n",
    "    del people[0]\n",
    "print(people)"
   ]
  },
  {
   "cell_type": "code",
   "execution_count": null,
   "id": "660ba79f",
   "metadata": {},
   "outputs": [],
   "source": []
  }
 ],
 "metadata": {
  "kernelspec": {
   "display_name": "Python 3 (ipykernel)",
   "language": "python",
   "name": "python3"
  },
  "language_info": {
   "codemirror_mode": {
    "name": "ipython",
    "version": 3
   },
   "file_extension": ".py",
   "mimetype": "text/x-python",
   "name": "python",
   "nbconvert_exporter": "python",
   "pygments_lexer": "ipython3",
   "version": "3.9.6"
  }
 },
 "nbformat": 4,
 "nbformat_minor": 5
}
