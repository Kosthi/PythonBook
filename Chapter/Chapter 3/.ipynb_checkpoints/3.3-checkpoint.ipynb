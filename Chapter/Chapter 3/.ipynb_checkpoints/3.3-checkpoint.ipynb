{
 "cells": [
  {
   "cell_type": "code",
   "execution_count": 27,
   "id": "1bb71815",
   "metadata": {},
   "outputs": [
    {
     "name": "stdout",
     "output_type": "stream",
     "text": [
      "['Beijing', 'Heart', 'Hong Kong', 'New York', 'Zhejiang']\n",
      "['Beijing', 'New York', 'Zhejiang', 'Heart', 'Hong Kong']\n",
      "['Zhejiang', 'New York', 'Hong Kong', 'Heart', 'Beijing']\n",
      "['Beijing', 'New York', 'Zhejiang', 'Heart', 'Hong Kong']\n",
      "['Hong Kong', 'Heart', 'Zhejiang', 'New York', 'Beijing']\n",
      "['Beijing', 'New York', 'Zhejiang', 'Heart', 'Hong Kong']\n",
      "['Beijing', 'Heart', 'Hong Kong', 'New York', 'Zhejiang']\n",
      "['Zhejiang', 'New York', 'Hong Kong', 'Heart', 'Beijing']\n"
     ]
    }
   ],
   "source": [
    "place = ['Beijing', 'New York', 'Zhejiang', 'Heart', 'Hong Kong']\n",
    "print(sorted(place))\n",
    "print(place)\n",
    "print(sorted(place, reverse=True))\n",
    "print(place)\n",
    "place.reverse()\n",
    "print(place)\n",
    "place.reverse()\n",
    "print(place)\n",
    "place.sort()\n",
    "print(place)\n",
    "place.sort(reverse=True)\n",
    "print(place)"
   ]
  },
  {
   "cell_type": "code",
   "execution_count": 28,
   "id": "77c9656e",
   "metadata": {},
   "outputs": [
    {
     "name": "stdout",
     "output_type": "stream",
     "text": [
      "I find a biger table\n",
      "I invite Lon\n",
      "I invite Jimmy\n",
      "I invite Mike\n",
      "I invite John\n",
      "I invite Tony\n",
      "I invite Oppo\n",
      "I invite 6 people totally\n"
     ]
    }
   ],
   "source": [
    "people = [\"Mike\", \"John\", \"Tony\"]\n",
    "print(\"I find a biger table\")\n",
    "people.insert(0, 'Lon')\n",
    "people.insert(1, 'Jimmy')\n",
    "people.append('Oppo')\n",
    "for man in people:\n",
    "    print(f\"I invite {man.title()}\")\n",
    "print(f\"I invite {len(people)} people totally\")"
   ]
  },
  {
   "cell_type": "code",
   "execution_count": 30,
   "id": "80c8162f",
   "metadata": {},
   "outputs": [
    {
     "name": "stdout",
     "output_type": "stream",
     "text": [
      "['US', 'UK', 'Japan', 'Indian', 'China']\n",
      "['China', 'US', 'UK', 'Japan', 'Indian']\n",
      "['China', 'Indian', 'Japan', 'UK', 'US']\n",
      "<list_reverseiterator object at 0x10be46640>\n",
      "['US', 'UK', 'Japan', 'Indian', 'China']\n"
     ]
    }
   ],
   "source": [
    "country = ['China', 'US', \"UK\", \"Japan\", \"Indian\"]\n",
    "print(sorted(country, reverse=True))\n",
    "print(country)\n",
    "country.sort()\n",
    "print(country)\n",
    "print(reversed(country))\n",
    "country.reverse()\n",
    "print(country)"
   ]
  },
  {
   "cell_type": "code",
   "execution_count": null,
   "id": "d00f9df3",
   "metadata": {},
   "outputs": [],
   "source": []
  }
 ],
 "metadata": {
  "kernelspec": {
   "display_name": "Python 3 (ipykernel)",
   "language": "python",
   "name": "python3"
  },
  "language_info": {
   "codemirror_mode": {
    "name": "ipython",
    "version": 3
   },
   "file_extension": ".py",
   "mimetype": "text/x-python",
   "name": "python",
   "nbconvert_exporter": "python",
   "pygments_lexer": "ipython3",
   "version": "3.9.6"
  }
 },
 "nbformat": 4,
 "nbformat_minor": 5
}
