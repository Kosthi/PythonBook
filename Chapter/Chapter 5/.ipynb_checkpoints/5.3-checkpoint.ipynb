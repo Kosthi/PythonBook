{
 "cells": [
  {
   "cell_type": "code",
   "execution_count": 1,
   "id": "2790d13a",
   "metadata": {},
   "outputs": [
    {
     "name": "stdout",
     "output_type": "stream",
     "text": [
      "You get 5 scores\n"
     ]
    }
   ],
   "source": [
    "alien_color = 'red'\n",
    "if alien_color == 'red':\n",
    "    print(\"You get 5 scores\")\n",
    "else:\n",
    "    print(\"You can not get 5 scores\")"
   ]
  },
  {
   "cell_type": "code",
   "execution_count": 4,
   "id": "51197dc1",
   "metadata": {},
   "outputs": [
    {
     "name": "stdout",
     "output_type": "stream",
     "text": [
      "You get 5 scores\n",
      "You get 10 scores\n"
     ]
    }
   ],
   "source": [
    "alien_color = 'red'\n",
    "if alien_color == 'red':\n",
    "    print(\"You get 5 scores\")\n",
    "else:\n",
    "    print(\"You get 10 scores\")\n",
    "\n",
    "alien_color = 'green'\n",
    "if alien_color == 'red':\n",
    "    print(\"You get 5 scores\")\n",
    "if alien_color == 'green':\n",
    "    print(\"You get 10 scores\")"
   ]
  },
  {
   "cell_type": "code",
   "execution_count": 5,
   "id": "1525f08f",
   "metadata": {},
   "outputs": [
    {
     "name": "stdout",
     "output_type": "stream",
     "text": [
      "You get 5 scores\n",
      "You get 10 scores\n",
      "You get 15 scores\n"
     ]
    }
   ],
   "source": [
    "alien_color = 'green'\n",
    "if alien_color == 'green':\n",
    "    print(\"You get 5 scores\")\n",
    "elif alien_color == 'yellow':\n",
    "    print(\"You get 10 scores\")\n",
    "else:\n",
    "    print(\"You get 15 scores\")\n",
    "\n",
    "alien_color = 'yellow'\n",
    "if alien_color == 'green':\n",
    "    print(\"You get 5 scores\")\n",
    "elif alien_color == 'yellow':\n",
    "    print(\"You get 10 scores\")\n",
    "else:\n",
    "    print(\"You get 15 scores\")\n",
    "    \n",
    "alien_color = 'red'\n",
    "if alien_color == 'green':\n",
    "    print(\"You get 5 scores\")\n",
    "elif alien_color == 'yellow':\n",
    "    print(\"You get 10 scores\")\n",
    "else:\n",
    "    print(\"You get 15 scores\")"
   ]
  },
  {
   "cell_type": "code",
   "execution_count": 9,
   "id": "f3c9a2c2",
   "metadata": {},
   "outputs": [
    {
     "name": "stdout",
     "output_type": "stream",
     "text": [
      "You are an older\n"
     ]
    }
   ],
   "source": [
    "age = 88\n",
    "if age < 2:\n",
    "    print(\"You are a baby\")\n",
    "elif age < 4:\n",
    "    print(\"You are a youer\")\n",
    "elif age < 13:\n",
    "    print(\"You are a chile\")\n",
    "elif age < 20:\n",
    "    print(\"You are a teenager\")\n",
    "elif age < 65:\n",
    "    print(\"You are a yonger\")\n",
    "else:\n",
    "    print(\"You are an older\")"
   ]
  },
  {
   "cell_type": "code",
   "execution_count": 13,
   "id": "74e4e14c",
   "metadata": {},
   "outputs": [
    {
     "name": "stdout",
     "output_type": "stream",
     "text": [
      "You really apples\n",
      "You really bananas\n",
      "You really oranges\n",
      "You don't like pink\n",
      "You do not love 'kk'\n"
     ]
    }
   ],
   "source": [
    "favorite_fruites = ['apple', 'banana', 'orange']\n",
    "if ('apple' in favorite_fruites):\n",
    "    print(\"You really apples\")\n",
    "if ('banana' in favorite_fruites):\n",
    "    print(\"You really bananas\")\n",
    "if (\"orange\" in favorite_fruites):\n",
    "    print(\"You really oranges\")\n",
    "if (\"pink\" not in favorite_fruites):\n",
    "    print(\"You don't like pink\")\n",
    "if (\"kk\" not in favorite_fruites):\n",
    "    print(\"You do not love 'kk'\")"
   ]
  },
  {
   "cell_type": "code",
   "execution_count": null,
   "id": "d13ec6bf",
   "metadata": {},
   "outputs": [],
   "source": []
  }
 ],
 "metadata": {
  "kernelspec": {
   "display_name": "Python 3 (ipykernel)",
   "language": "python",
   "name": "python3"
  },
  "language_info": {
   "codemirror_mode": {
    "name": "ipython",
    "version": 3
   },
   "file_extension": ".py",
   "mimetype": "text/x-python",
   "name": "python",
   "nbconvert_exporter": "python",
   "pygments_lexer": "ipython3",
   "version": "3.9.6"
  }
 },
 "nbformat": 4,
 "nbformat_minor": 5
}
