{
 "cells": [
  {
   "cell_type": "code",
   "execution_count": 1,
   "id": "31bfecc7",
   "metadata": {},
   "outputs": [
    {
     "name": "stdout",
     "output_type": "stream",
     "text": [
      "False\n",
      "True\n",
      "True\n",
      "False\n",
      "False\n",
      "False\n",
      "True\n",
      "True\n",
      "False\n",
      "True\n",
      "1\n"
     ]
    }
   ],
   "source": [
    "str1 = 'ui'\n",
    "str2 = 'Ui'\n",
    "print(str1 == str2)\n",
    "print(str1.lower() == str1.lower())\n",
    "print(1 == 1)\n",
    "print(1 != 1)\n",
    "print(1 > 1)\n",
    "print(1 < 1)\n",
    "print(1 >= 1)\n",
    "print(1 <= 1)\n",
    "print('a' < 'z' and 1 > 2)\n",
    "print('a' < 'z' or 1 > 2)\n",
    "list = [1, 2, 3, 4, 5]\n",
    "1 in list\n",
    "100 not in list\n",
    "100 in list\n",
    "if (1 in list):\n",
    "    print(1)\n",
    "else:\n",
    "    print(2)"
   ]
  },
  {
   "cell_type": "code",
   "execution_count": null,
   "id": "16ec1c30",
   "metadata": {},
   "outputs": [],
   "source": []
  }
 ],
 "metadata": {
  "kernelspec": {
   "display_name": "Python 3 (ipykernel)",
   "language": "python",
   "name": "python3"
  },
  "language_info": {
   "codemirror_mode": {
    "name": "ipython",
    "version": 3
   },
   "file_extension": ".py",
   "mimetype": "text/x-python",
   "name": "python",
   "nbconvert_exporter": "python",
   "pygments_lexer": "ipython3",
   "version": "3.9.6"
  }
 },
 "nbformat": 4,
 "nbformat_minor": 5
}
