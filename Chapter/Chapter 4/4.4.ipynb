{
 "cells": [
  {
   "cell_type": "code",
   "execution_count": 7,
   "id": "1f6efaf4",
   "metadata": {},
   "outputs": [
    {
     "name": "stdout",
     "output_type": "stream",
     "text": [
      "The fist three items in list are:\n",
      "[1, 2, 3]\n",
      "three items from the middle of the list are:\n",
      "[81, 82, 83, 84, 85, 86, 87, 88]\n",
      "the last three items in list are:\n",
      "[196, 197, 198]\n"
     ]
    }
   ],
   "source": [
    "list = [i for i in range(1, 199)]\n",
    "print(\"The fist three items in list are:\")\n",
    "print(list[:3])\n",
    "print(\"three items from the middle of the list are:\")\n",
    "print(list[80:88])\n",
    "print(\"the last three items in list are:\")\n",
    "print(list[-3:])"
   ]
  },
  {
   "cell_type": "code",
   "execution_count": 17,
   "id": "b961bad4",
   "metadata": {},
   "outputs": [
    {
     "name": "stdout",
     "output_type": "stream",
     "text": [
      "['pepperoni', 'oojj', 'ppp', 'ii']\n",
      "['pepperoni', 'oojj', 'ppp', 'hj']\n",
      "\n",
      "My favorite foods are:\n",
      "pepperoni\n",
      "oojj\n",
      "ppp\n",
      "ii\n",
      "\n",
      "My friend favorite foods are:\n",
      "pepperoni\n",
      "oojj\n",
      "ppp\n",
      "hj\n"
     ]
    }
   ],
   "source": [
    "my_pizzas = ['pepperoni', 'oojj', 'ppp']\n",
    "friend_pizzas = my_pizzas[:]\n",
    "\n",
    "my_pizzas.append(\"ii\")\n",
    "friend_pizzas.append('hj')\n",
    "print(f\"{my_pizzas}\")\n",
    "print(f\"{friend_pizzas}\")\n",
    "print(\"\\nMy favorite foods are:\")\n",
    "for pizza in my_pizzas:\n",
    "    print(pizza)\n",
    "print(\"\\nMy friend favorite foods are:\")\n",
    "for pizza in friend_pizzas:\n",
    "    print(pizza)"
   ]
  },
  {
   "cell_type": "code",
   "execution_count": 18,
   "id": "446c9c5c",
   "metadata": {},
   "outputs": [
    {
     "name": "stdout",
     "output_type": "stream",
     "text": [
      "My favorite foods are:\n",
      "pizza\n",
      "falafel\n",
      "carrot cake\n",
      "\n",
      "My friend favorite foods are:\n",
      "pizza\n",
      "falafel\n",
      "carrot cake\n"
     ]
    }
   ],
   "source": [
    "my_foods = ['pizza', 'falafel', 'carrot cake']\n",
    "friend_foods = my_foods[:]\n",
    "print(\"My favorite foods are:\")\n",
    "for food in my_foods:\n",
    "    print(food)\n",
    "print(\"\\nMy friend favorite foods are:\")\n",
    "for food in friend_foods:\n",
    "    print(food)"
   ]
  },
  {
   "cell_type": "code",
   "execution_count": null,
   "id": "dcdc4cf6",
   "metadata": {},
   "outputs": [],
   "source": []
  }
 ],
 "metadata": {
  "kernelspec": {
   "display_name": "Python 3 (ipykernel)",
   "language": "python",
   "name": "python3"
  },
  "language_info": {
   "codemirror_mode": {
    "name": "ipython",
    "version": 3
   },
   "file_extension": ".py",
   "mimetype": "text/x-python",
   "name": "python",
   "nbconvert_exporter": "python",
   "pygments_lexer": "ipython3",
   "version": "3.9.6"
  }
 },
 "nbformat": 4,
 "nbformat_minor": 5
}
