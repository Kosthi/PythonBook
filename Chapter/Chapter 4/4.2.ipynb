{
 "cells": [
  {
   "cell_type": "code",
   "execution_count": 4,
   "id": "c1ca23e0",
   "metadata": {},
   "outputs": [
    {
     "name": "stdout",
     "output_type": "stream",
     "text": [
      "pepperoni\n",
      "I like pepperoni pizza.\n",
      "\n",
      "oojj\n",
      "I like oojj pizza.\n",
      "\n",
      "ppp\n",
      "I like ppp pizza.\n",
      "\n",
      "I really love pizza!\n"
     ]
    }
   ],
   "source": [
    "pizzas = ['pepperoni', 'oojj', 'ppp']\n",
    "for pizza in pizzas:\n",
    "    print(pizza)\n",
    "    print(f\"I like {pizza} pizza.\\n\")\n",
    "print(\"I really love pizza!\")"
   ]
  },
  {
   "cell_type": "code",
   "execution_count": 10,
   "id": "2c1fd983",
   "metadata": {},
   "outputs": [
    {
     "name": "stdout",
     "output_type": "stream",
     "text": [
      "lion\n",
      "a lion would make a great a pet\n",
      "\n",
      "cat\n",
      "a cat would make a great a pet\n",
      "\n",
      "dog\n",
      "a dog would make a great a pet\n",
      "\n",
      "Any of these animals would make a great a pet!\n"
     ]
    }
   ],
   "source": [
    "animals = [\"lion\", \"cat\", \"dog\"]\n",
    "for animal in animals:\n",
    "    print(animal)\n",
    "    print(f\"a {animal} would make a great a pet\\n\")\n",
    "print(\"Any of these animals would make a great a pet!\")"
   ]
  },
  {
   "cell_type": "code",
   "execution_count": null,
   "id": "5a8c3017",
   "metadata": {},
   "outputs": [],
   "source": []
  }
 ],
 "metadata": {
  "kernelspec": {
   "display_name": "Python 3 (ipykernel)",
   "language": "python",
   "name": "python3"
  },
  "language_info": {
   "codemirror_mode": {
    "name": "ipython",
    "version": 3
   },
   "file_extension": ".py",
   "mimetype": "text/x-python",
   "name": "python",
   "nbconvert_exporter": "python",
   "pygments_lexer": "ipython3",
   "version": "3.9.6"
  }
 },
 "nbformat": 4,
 "nbformat_minor": 5
}
