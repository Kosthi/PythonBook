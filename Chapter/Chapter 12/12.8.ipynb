{
 "cells": [
  {
   "cell_type": "code",
   "execution_count": null,
   "id": "2669caaa",
   "metadata": {
    "scrolled": true
   },
   "outputs": [],
   "source": [
    "import pygame, sys\n",
    "from pygame.sprite import Sprite"
   ]
  },
  {
   "cell_type": "code",
   "execution_count": null,
   "id": "bde56284",
   "metadata": {},
   "outputs": [],
   "source": [
    "class Bullet(Sprite):\n",
    "    \"\"\"管理飞船发射子弹的类\"\"\"\n",
    "    def __init__(self, ai_game):\n",
    "        \"\"\"在当前位置创建一个子弹对象\"\"\"\n",
    "        super().__init__()\n",
    "        self.screen = ai_game.screen\n",
    "        self.color = (60, 60, 60)\n",
    "        \n",
    "        # 在(0, 0)处创建一个子弹的矩形，再设置正确的位置\n",
    "        self.rect = pygame.Rect(0, 0, 15, 3)\n",
    "        self.rect.midright = ai_game.rocket.rect.midright\n",
    "        \n",
    "        # 存储用小数表示的子弹位置\n",
    "        self.x = float(self.rect.x)\n",
    "        \n",
    "    def update(self):\n",
    "        \"\"\"向右移动子弹\"\"\"\n",
    "        # 更新表示子弹位置的小数值\n",
    "        self.x += 1.25\n",
    "        # 更新表示子弹rect的值\n",
    "        self.rect.x = self.x\n",
    "        \n",
    "    def draw_bullet(self):\n",
    "        \"\"\"在屏幕上绘制子弹\"\"\"\n",
    "        pygame.draw.rect(self.screen, self.color, self.rect)\n",
    "        \n",
    "class Rocket:\n",
    "    \"\"\"管理火箭类\"\"\"\n",
    "    def __init__(self, mainwindow):\n",
    "        \"\"\"初始化火箭并设置其初始位置\"\"\"\n",
    "        self.screen = mainwindow.screen\n",
    "        self.screen_rect = self.screen.get_rect()\n",
    "        \n",
    "        # 加载火箭并获取其外接矩形\n",
    "        self.image = pygame.image.load('ship.bmp')\n",
    "        self.rect = self.image.get_rect()\n",
    "        \n",
    "        # 设置火箭显示在屏幕左中央\n",
    "        self.rect.midleft = self.screen_rect.midleft\n",
    "        pygame.display.set_caption('A rocket')\n",
    "        \n",
    "        # 移动标志\n",
    "        self.moving_left = False\n",
    "        self.moving_right = False\n",
    "        self.moving_up = False\n",
    "        self.moving_down = False\n",
    "        \n",
    "        # 飞船速度\n",
    "        self.ship_speed = 2\n",
    "        \n",
    "        # 飞船坐标\n",
    "        self.x = float(self.rect.x)\n",
    "        self.y = float(self.rect.y)\n",
    "        \n",
    "    def blitme(self):\n",
    "        \"\"\"绘制火箭\"\"\"\n",
    "        self.screen.blit(self.image, self.rect)\n",
    "    \n",
    "    def update(self):\n",
    "        \"\"\"更新火箭位置\"\"\"\n",
    "        if self.moving_left and self.rect.left > self.screen_rect.left:\n",
    "            self.x -= self.ship_speed\n",
    "        if self.moving_right and self.rect.right < self.screen_rect.right:\n",
    "            self.x += self.ship_speed\n",
    "        if self.moving_up and self.rect.top > self.screen_rect.top:\n",
    "            self.y -= self.ship_speed\n",
    "        if self.moving_down and self.rect.bottom < self.screen_rect.bottom:\n",
    "            self.y += self.ship_speed\n",
    "        self.rect.x = self.x\n",
    "        self.rect.y = self.y"
   ]
  },
  {
   "cell_type": "code",
   "execution_count": null,
   "id": "e020aebb",
   "metadata": {},
   "outputs": [],
   "source": [
    "class MainWindow:\n",
    "    \"\"\"主窗口类\"\"\"\n",
    "    def __init__(self):\n",
    "        \"\"\"初始化\"\"\"\n",
    "        pygame.init()\n",
    "        self.screen = pygame.display.set_mode((1200, 800)) \n",
    "        self.rocket = Rocket(self)\n",
    "        self.bullets = pygame.sprite.Group()\n",
    "        self.screen_rect = self.screen.get_rect()\n",
    "        \n",
    "    def run_game(self):\n",
    "        \"\"\"开始游戏主循环\"\"\"\n",
    "        while True:\n",
    "            for event in pygame.event.get():\n",
    "                if event.type == pygame.QUIT:\n",
    "                    sys.exit()\n",
    "                elif event.type == pygame.KEYDOWN:\n",
    "                    self._check_keydown_events(event)\n",
    "                elif event.type == pygame.KEYUP:\n",
    "                    self._check_keyup_events(event)\n",
    "            \n",
    "            self.screen.fill((0, 255, 255))\n",
    "            self.rocket.update()\n",
    "            self.rocket.blitme()\n",
    "            self._update_bullets()\n",
    "            pygame.display.flip()\n",
    "            \n",
    "    def _check_keydown_events(self, event):\n",
    "        \"\"\"按键按下\"\"\"\n",
    "        print(event.key)\n",
    "        if event.key == pygame.K_LEFT:\n",
    "            self.rocket.moving_left = True\n",
    "        elif event.key == pygame.K_RIGHT:\n",
    "            self.rocket.moving_right = True\n",
    "        elif event.key == pygame.K_UP:\n",
    "            self.rocket.moving_up = True\n",
    "        elif event.key == pygame.K_DOWN:\n",
    "            self.rocket.moving_down = True\n",
    "        elif event.key == pygame.K_SPACE:\n",
    "            self._fire_bullet()\n",
    "            \n",
    "    def _check_keyup_events(self, event):\n",
    "        \"\"\"按键松开\"\"\"\n",
    "        if event.key == pygame.K_LEFT:\n",
    "            self.rocket.moving_left = False\n",
    "        elif event.key == pygame.K_RIGHT:\n",
    "            self.rocket.moving_right = False\n",
    "        elif event.key == pygame.K_UP:\n",
    "            self.rocket.moving_up = False\n",
    "        elif event.key == pygame.K_DOWN:\n",
    "            self.rocket.moving_down = False\n",
    "            \n",
    "    def _fire_bullet(self):\n",
    "        new_bullet = Bullet(self)\n",
    "        self.bullets.add(new_bullet)\n",
    "        \n",
    "    def _update_bullets(self):\n",
    "        self.bullets.update()\n",
    "        for bullet in self.bullets.sprites():\n",
    "            if bullet.rect.left >= self.screen.get_rect().right:\n",
    "                self.bullets.remove(bullet)\n",
    "            else:\n",
    "                bullet.draw_bullet()\n",
    "        # print(len(self.bullets))\n",
    "        \n",
    "mainwindown = MainWindow()\n",
    "mainwindown.run_game()"
   ]
  },
  {
   "cell_type": "code",
   "execution_count": 9,
   "id": "044e8cf1",
   "metadata": {
    "scrolled": true,
    "tags": [
     "tag"
    ]
   },
   "outputs": [
    {
     "name": "stdout",
     "output_type": "stream",
     "text": [
      "[NbConvertApp] Converting notebook 12.8.ipynb to script\n",
      "[NbConvertApp] Writing 4503 bytes to 12.8.py\n"
     ]
    },
    {
     "data": {
      "text/plain": [
       "4427"
      ]
     },
     "execution_count": 9,
     "metadata": {},
     "output_type": "execute_result"
    }
   ],
   "source": [
    "!jupyter nbconvert --to script 12.8.ipynb --TagRemovePreprocessor.remove_cell_tags='{\"tag\"}'\n",
    "\n",
    "import re\n",
    "from pathlib import Path\n",
    "filename = Path.cwd() / '12.8.py'\n",
    "code_text = filename.read_text().split('\\n')\n",
    "lines = [line for line in code_text if len(line) == 0 or \n",
    "        (line[0] != '#' and 'get_ipython()' not in line)]\n",
    "clean_code = '\\n'.join(lines)\n",
    "clean_code = re.sub(r'\\n{2,}', '\\n\\n', clean_code)\n",
    "filename.write_text(clean_code.strip())"
   ]
  }
 ],
 "metadata": {
  "kernelspec": {
   "display_name": "Python 3 (ipykernel)",
   "language": "python",
   "name": "python3"
  },
  "language_info": {
   "codemirror_mode": {
    "name": "ipython",
    "version": 3
   },
   "file_extension": ".py",
   "mimetype": "text/x-python",
   "name": "python",
   "nbconvert_exporter": "python",
   "pygments_lexer": "ipython3",
   "version": "3.9.6"
  }
 },
 "nbformat": 4,
 "nbformat_minor": 5
}
