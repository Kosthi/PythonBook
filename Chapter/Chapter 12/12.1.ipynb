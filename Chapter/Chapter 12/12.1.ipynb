{
 "cells": [
  {
   "cell_type": "code",
   "execution_count": null,
   "id": "c436facd",
   "metadata": {},
   "outputs": [],
   "source": [
    "import pygame, sys"
   ]
  },
  {
   "cell_type": "code",
   "execution_count": null,
   "id": "9f507238",
   "metadata": {},
   "outputs": [],
   "source": [
    "class MyFavorChar:\n",
    "    \"\"\"最喜欢的角色的类\"\"\"\n",
    "    def __init__(self):\n",
    "        pygame.init()\n",
    "        self.screen = pygame.display.set_mode((1200, 800)) \n",
    "        self.screen_rect = self.screen.get_rect()\n",
    "        # 加载角色并获取其外接矩形\n",
    "        self.image = pygame.image.load('person.png')\n",
    "        self.rect = self.image.get_rect()\n",
    "        # 设置角色显示在屏幕中央\n",
    "        self.rect.center = self.screen_rect.center\n",
    "        pygame.display.set_caption('Show yourself')\n",
    "        \n",
    "    def run_game(self):\n",
    "        while True:\n",
    "            for event in pygame.event.get():\n",
    "                if event.type == pygame.QUIT:\n",
    "                    sys.exit()\n",
    "            self.screen.fill((0, 255, 255))\n",
    "            self.screen.blit(self.image, self.rect)\n",
    "            pygame.display.flip()\n",
    "            \n",
    "myfavorchar = MyFavorChar()\n",
    "myfavorchar.run_game()"
   ]
  },
  {
   "cell_type": "code",
   "execution_count": 2,
   "id": "4bcb050f",
   "metadata": {},
   "outputs": [
    {
     "name": "stdout",
     "output_type": "stream",
     "text": [
      "[NbConvertApp] Converting notebook 12.1.ipynb to script\n",
      "[NbConvertApp] Writing 981 bytes to 12.1.py\n"
     ]
    }
   ],
   "source": [
    "!jupyter nbconvert --to script 12.1.ipynb"
   ]
  },
  {
   "cell_type": "code",
   "execution_count": null,
   "id": "55cd367f",
   "metadata": {},
   "outputs": [],
   "source": []
  }
 ],
 "metadata": {
  "kernelspec": {
   "display_name": "Python 3 (ipykernel)",
   "language": "python",
   "name": "python3"
  },
  "language_info": {
   "codemirror_mode": {
    "name": "ipython",
    "version": 3
   },
   "file_extension": ".py",
   "mimetype": "text/x-python",
   "name": "python",
   "nbconvert_exporter": "python",
   "pygments_lexer": "ipython3",
   "version": "3.9.6"
  }
 },
 "nbformat": 4,
 "nbformat_minor": 5
}
