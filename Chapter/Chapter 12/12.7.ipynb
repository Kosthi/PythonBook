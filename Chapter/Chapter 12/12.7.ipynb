{
 "cells": [
  {
   "cell_type": "code",
   "execution_count": 10,
   "id": "2669caaa",
   "metadata": {
    "scrolled": true
   },
   "outputs": [],
   "source": [
    "import pygame, sys"
   ]
  },
  {
   "cell_type": "code",
   "execution_count": 11,
   "id": "bde56284",
   "metadata": {},
   "outputs": [],
   "source": [
    "class Rocket:\n",
    "    \"\"\"管理火箭类\"\"\"\n",
    "    def __init__(self, mainwindow):\n",
    "        \"\"\"初始化火箭并设置其初始位置\"\"\"\n",
    "        self.screen = mainwindow.screen\n",
    "        self.screen_rect = self.screen.get_rect()\n",
    "        \n",
    "        # 加载火箭并获取其外接矩形\n",
    "        self.image = pygame.image.load('ship.bmp')\n",
    "        self.rect = self.image.get_rect()\n",
    "        \n",
    "        # 设置火箭显示在屏幕中央\n",
    "        self.rect.center = self.screen_rect.center\n",
    "        pygame.display.set_caption('A rocket')\n",
    "        \n",
    "        # 移动标志\n",
    "        self.moving_left = False\n",
    "        self.moving_right = False\n",
    "        self.moving_up = False\n",
    "        self.moving_down = False\n",
    "        \n",
    "        # 飞船速度\n",
    "        self.ship_speed = 2\n",
    "        \n",
    "        # 飞船坐标\n",
    "        self.x = float(self.rect.x)\n",
    "        self.y = float(self.rect.y)\n",
    "        \n",
    "    def blitme(self):\n",
    "        \"\"\"绘制火箭\"\"\"\n",
    "        self.screen.blit(self.image, self.rect)\n",
    "    \n",
    "    def update(self):\n",
    "        \"\"\"更新火箭位置\"\"\"\n",
    "        if self.moving_left and self.rect.left > self.screen_rect.left:\n",
    "            self.x -= self.ship_speed\n",
    "        if self.moving_right and self.rect.right < self.screen_rect.right:\n",
    "            self.x += self.ship_speed\n",
    "        if self.moving_up and self.rect.top > self.screen_rect.top:\n",
    "            self.y -= self.ship_speed\n",
    "        if self.moving_down and self.rect.bottom < self.screen_rect.bottom:\n",
    "            self.y += self.ship_speed\n",
    "        self.rect.x = self.x\n",
    "        self.rect.y = self.y\n",
    "        # print(self.rect.x, self.rect.y)"
   ]
  },
  {
   "cell_type": "code",
   "execution_count": null,
   "id": "e020aebb",
   "metadata": {},
   "outputs": [],
   "source": [
    "class MainWindow:\n",
    "    \"\"\"主窗口类\"\"\"\n",
    "    def __init__(self):\n",
    "        \"\"\"初始化\"\"\"\n",
    "        pygame.init()\n",
    "        self.screen = pygame.display.set_mode((1200, 800)) \n",
    "        self.rocket = Rocket(self)\n",
    "        self.screen_rect = self.screen.get_rect()\n",
    "        \n",
    "    def run_game(self):\n",
    "        \"\"\"开始游戏主循环\"\"\"\n",
    "        while True:\n",
    "            for event in pygame.event.get():\n",
    "                if event.type == pygame.QUIT:\n",
    "                    sys.exit()\n",
    "                elif event.type == pygame.KEYDOWN:\n",
    "                    self._check_keydown_events(event)\n",
    "                elif event.type == pygame.KEYUP:\n",
    "                    self._check_keyup_events(event)\n",
    "            \n",
    "            self.screen.fill((0, 255, 255))\n",
    "            self.rocket.update()\n",
    "            self.rocket.blitme()\n",
    "            pygame.display.flip()\n",
    "            \n",
    "    def _check_keydown_events(self, event):\n",
    "        \"\"\"按键按下\"\"\"\n",
    "        print(event.key)\n",
    "        if event.key == pygame.K_LEFT:\n",
    "            self.rocket.moving_left = True\n",
    "        elif event.key == pygame.K_RIGHT:\n",
    "            self.rocket.moving_right = True\n",
    "        elif event.key == pygame.K_UP:\n",
    "            self.rocket.moving_up = True\n",
    "        elif event.key == pygame.K_DOWN:\n",
    "            self.rocket.moving_down = True\n",
    "            \n",
    "    def _check_keyup_events(self, event):\n",
    "        \"\"\"按键松开\"\"\"\n",
    "        if event.key == pygame.K_LEFT:\n",
    "            self.rocket.moving_left = False\n",
    "        elif event.key == pygame.K_RIGHT:\n",
    "            self.rocket.moving_right = False\n",
    "        elif event.key == pygame.K_UP:\n",
    "            self.rocket.moving_up = False\n",
    "        elif event.key == pygame.K_DOWN:\n",
    "            self.rocket.moving_down = False\n",
    "        \n",
    "mainwindown = MainWindow()\n",
    "mainwindown.run_game()"
   ]
  },
  {
   "cell_type": "code",
   "execution_count": 27,
   "id": "044e8cf1",
   "metadata": {
    "scrolled": true,
    "tags": [
     "tag"
    ]
   },
   "outputs": [
    {
     "name": "stdout",
     "output_type": "stream",
     "text": [
      "[NbConvertApp] Converting notebook 12.7.ipynb to script\n",
      "[NbConvertApp] Writing 3084 bytes to 12.7.py\n"
     ]
    },
    {
     "data": {
      "text/plain": [
       "3006"
      ]
     },
     "execution_count": 27,
     "metadata": {},
     "output_type": "execute_result"
    }
   ],
   "source": [
    "!jupyter nbconvert --to script 12.7.ipynb --TagRemovePreprocessor.remove_cell_tags='{\"tag\"}'\n",
    "\n",
    "import re\n",
    "from pathlib import Path\n",
    "filename = Path.cwd() / '12.7.py'\n",
    "code_text = filename.read_text().split('\\n')\n",
    "lines = [line for line in code_text if len(line) == 0 or \n",
    "        (line[0] != '#' and 'get_ipython()' not in line)]\n",
    "clean_code = '\\n'.join(lines)\n",
    "clean_code = re.sub(r'\\n{2,}', '\\n\\n', clean_code)\n",
    "filename.write_text(clean_code.strip())"
   ]
  }
 ],
 "metadata": {
  "kernelspec": {
   "display_name": "Python 3 (ipykernel)",
   "language": "python",
   "name": "python3"
  },
  "language_info": {
   "codemirror_mode": {
    "name": "ipython",
    "version": 3
   },
   "file_extension": ".py",
   "mimetype": "text/x-python",
   "name": "python",
   "nbconvert_exporter": "python",
   "pygments_lexer": "ipython3",
   "version": "3.9.6"
  }
 },
 "nbformat": 4,
 "nbformat_minor": 5
}
