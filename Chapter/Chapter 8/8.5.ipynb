{
 "cells": [
  {
   "cell_type": "code",
   "execution_count": 2,
   "id": "327ec2a9",
   "metadata": {},
   "outputs": [
    {
     "name": "stdout",
     "output_type": "stream",
     "text": [
      "You wanna add oppo\n",
      "You wanna add apple\n",
      "You wanna add banana\n",
      "You wanna add ornage\n",
      "You wanna add ajj\n",
      "You wanna add sdd\n"
     ]
    }
   ],
   "source": [
    "def make_sandwich(*foods):\n",
    "    for food in foods:\n",
    "        print(f\"You wanna add {food}\")\n",
    "\n",
    "make_sandwich('oppo')\n",
    "make_sandwich('apple', 'banana')\n",
    "make_sandwich('ornage', 'ajj', 'sdd')"
   ]
  },
  {
   "cell_type": "code",
   "execution_count": 4,
   "id": "fdd05c14",
   "metadata": {},
   "outputs": [
    {
     "name": "stdout",
     "output_type": "stream",
     "text": [
      "{'location': 'Wenzhou', 'field': 'CS', 'height': 1.72, 'first_name': 'Yimin', 'last_name': 'Wu'}\n"
     ]
    }
   ],
   "source": [
    "def build_profile(first, last, **user_info):\n",
    "    \"\"\"创建一个字典，其中包含我们知道的有关用户的一切。\"\"\"\n",
    "    user_info['first_name'] = first\n",
    "    user_info['last_name'] = last\n",
    "    return user_info\n",
    "\n",
    "user_profile = build_profile('Yimin', 'Wu',\n",
    "                             location = 'Wenzhou',\n",
    "                             field = 'CS',\n",
    "                             height = 1.72\n",
    "                            )\n",
    "print(user_profile)"
   ]
  },
  {
   "cell_type": "code",
   "execution_count": 11,
   "id": "0e25e8f6",
   "metadata": {},
   "outputs": [
    {
     "data": {
      "text/plain": [
       "{'color': 'red', 'tow_package': True, 'brand': 'subro', 'model': 'outback'}"
      ]
     },
     "execution_count": 11,
     "metadata": {},
     "output_type": "execute_result"
    }
   ],
   "source": [
    "def make_car(brand, model, **kwargs):\n",
    "    kwargs['brand'] = brand\n",
    "    kwargs['model'] = model\n",
    "    return kwargs\n",
    "\n",
    "make_car('subro', 'outback', color = 'red', tow_package = True)"
   ]
  },
  {
   "cell_type": "code",
   "execution_count": null,
   "id": "cb757dc1",
   "metadata": {},
   "outputs": [],
   "source": []
  }
 ],
 "metadata": {
  "kernelspec": {
   "display_name": "Python 3 (ipykernel)",
   "language": "python",
   "name": "python3"
  },
  "language_info": {
   "codemirror_mode": {
    "name": "ipython",
    "version": 3
   },
   "file_extension": ".py",
   "mimetype": "text/x-python",
   "name": "python",
   "nbconvert_exporter": "python",
   "pygments_lexer": "ipython3",
   "version": "3.9.6"
  }
 },
 "nbformat": 4,
 "nbformat_minor": 5
}
