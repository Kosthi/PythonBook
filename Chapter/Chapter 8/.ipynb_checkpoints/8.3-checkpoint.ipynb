{
 "cells": [
  {
   "cell_type": "code",
   "execution_count": 2,
   "id": "52e010d3",
   "metadata": {},
   "outputs": [
    {
     "name": "stdout",
     "output_type": "stream",
     "text": [
      "Wenzhou, China\n",
      "Bejing, China\n",
      "New York, US\n"
     ]
    }
   ],
   "source": [
    "def city_country(city, country = 'China'):\n",
    "    print(f\"{city}, {country}\")\n",
    "city_country('Wenzhou', 'China')\n",
    "city_country('Bejing')\n",
    "city_country('New York', 'US')"
   ]
  },
  {
   "cell_type": "code",
   "execution_count": 3,
   "id": "0437f583",
   "metadata": {},
   "outputs": [
    {
     "name": "stdout",
     "output_type": "stream",
     "text": [
      "{'name': 'Mike Song', 'song': 'Run my boy'}\n",
      "{'name': 'John', 'song': 'SHang di'}\n",
      "{'name': 'Opp', 'song': 'wankge'}\n",
      "{'name': 'Jimmy', 'song': 'Homeland', 'songNum': 12}\n"
     ]
    }
   ],
   "source": [
    "def make_album(name, song, songNum = None):\n",
    "    album = {}\n",
    "    album['name'] = name\n",
    "    album['song'] = song\n",
    "    if songNum:\n",
    "        album['songNum'] = songNum\n",
    "    return album\n",
    "print(make_album('Mike Song', 'Run my boy'))\n",
    "print(make_album('John', 'SHang di'))\n",
    "print(make_album('Opp', 'wankge'))\n",
    "\n",
    "print(make_album('Jimmy', 'Homeland', 12))"
   ]
  },
  {
   "cell_type": "code",
   "execution_count": 5,
   "id": "6f78b276",
   "metadata": {},
   "outputs": [
    {
     "name": "stdout",
     "output_type": "stream",
     "text": [
      "Enter you favorite singer, 'q' to exitmk\n",
      "What is his song? 'q' to exitm\n",
      "{'name': 'mk', 'song': 'm'}\n",
      "Enter you favorite singer, 'q' to exitda\n",
      "What is his song? 'q' to exitdd\n",
      "{'name': 'da', 'song': 'dd'}\n",
      "Enter you favorite singer, 'q' to exitdd\n",
      "What is his song? 'q' to exitq\n"
     ]
    }
   ],
   "source": [
    "while True:\n",
    "    name = input(\"Enter you favorite singer, 'q' to exit\")\n",
    "    if name == 'q':\n",
    "        break\n",
    "    song = input(\"What is his song? 'q' to exit\")\n",
    "    if song == 'q':\n",
    "        break\n",
    "    print(make_album(name, song))"
   ]
  },
  {
   "cell_type": "code",
   "execution_count": null,
   "id": "a21a839d",
   "metadata": {},
   "outputs": [],
   "source": []
  }
 ],
 "metadata": {
  "kernelspec": {
   "display_name": "Python 3 (ipykernel)",
   "language": "python",
   "name": "python3"
  },
  "language_info": {
   "codemirror_mode": {
    "name": "ipython",
    "version": 3
   },
   "file_extension": ".py",
   "mimetype": "text/x-python",
   "name": "python",
   "nbconvert_exporter": "python",
   "pygments_lexer": "ipython3",
   "version": "3.9.6"
  }
 },
 "nbformat": 4,
 "nbformat_minor": 5
}
