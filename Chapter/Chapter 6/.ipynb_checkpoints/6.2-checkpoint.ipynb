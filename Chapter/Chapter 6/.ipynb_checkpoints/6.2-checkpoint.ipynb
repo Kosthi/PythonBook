{
 "cells": [
  {
   "cell_type": "code",
   "execution_count": 4,
   "id": "b0139759",
   "metadata": {},
   "outputs": [
    {
     "name": "stdout",
     "output_type": "stream",
     "text": [
      "OPP:\n",
      "oject\n",
      "\n",
      "Data hiding:\n",
      "躲起来\n",
      "\n",
      "Kiss:\n",
      "亲亲\n",
      "\n",
      "love:\n",
      "男女之爱\n",
      "\n",
      "high:\n",
      "1.22\n",
      "\n"
     ]
    }
   ],
   "source": [
    "suyus = {'OPP': 'oject', 'Data hiding': '躲起来', 'Kiss': '亲亲', 'love': '男女之爱', 'high': 1.22}\n",
    "for suyu, mean in suyus.items():\n",
    "    print(f\"{suyu}:\\n{mean}\\n\")"
   ]
  },
  {
   "cell_type": "code",
   "execution_count": 20,
   "id": "0d91de77",
   "metadata": {},
   "outputs": [
    {
     "name": "stdout",
     "output_type": "stream",
     "text": [
      "nile runs through Egypt\n",
      "Huanghe runs through Jhina\n",
      "Changjiang runs through Jhina\n",
      "Miss runs through US\n",
      "Tans runs through US\n",
      "\n",
      "\n",
      "nile\n",
      "Huanghe\n",
      "Changjiang\n",
      "Miss\n",
      "Tans\n",
      "\n",
      "\n",
      "Egypt\n",
      "Jhina\n",
      "Jhina\n",
      "US\n",
      "US\n",
      "\n",
      "\n",
      "Jhina\n",
      "Egypt\n",
      "US\n",
      "\n",
      "\n",
      "Egypt\n",
      "Jhina\n",
      "US\n"
     ]
    }
   ],
   "source": [
    "rivers = {'nile': 'Egypt', 'Huanghe': 'Jhina', 'Changjiang': 'Jhina', 'Miss': 'US', 'Tans': 'US'}\n",
    "for river, country in rivers.items():\n",
    "    print(f\"{river} runs through {country}\")\n",
    "print(\"\\n\")\n",
    "for river in rivers:\n",
    "    print(f\"{river}\")\n",
    "print(\"\\n\")\n",
    "for country in rivers.values():\n",
    "    print(f\"{country}\")\n",
    "print(\"\\n\")\n",
    "for country in set(rivers.values()):\n",
    "    print(f\"{country}\")\n",
    "print(\"\\n\")\n",
    "for country in sorted(set(rivers.values())):\n",
    "    print(f\"{country}\")"
   ]
  },
  {
   "cell_type": "code",
   "execution_count": 22,
   "id": "6c338cd7",
   "metadata": {},
   "outputs": [
    {
     "name": "stdout",
     "output_type": "stream",
     "text": [
      "Thanking for your polling\n",
      "Thanking for your polling\n",
      "Thanking for your polling\n",
      "Thanking for your polling\n",
      "Reil, please poll your right\n"
     ]
    }
   ],
   "source": [
    "list = {'Mike': 1, 'John': 1, 'Oppo': 1, 'Jimmy': 1, 'Reil': 'Golang'}\n",
    "list['Reil'] = 0\n",
    "for name, poll in list.items():\n",
    "    if poll == 1:\n",
    "        print(\"Thanking for your polling\")\n",
    "    else:\n",
    "        print(f\"{name}, please poll your right\")"
   ]
  },
  {
   "cell_type": "code",
   "execution_count": null,
   "id": "2df451da",
   "metadata": {},
   "outputs": [],
   "source": []
  }
 ],
 "metadata": {
  "kernelspec": {
   "display_name": "Python 3 (ipykernel)",
   "language": "python",
   "name": "python3"
  },
  "language_info": {
   "codemirror_mode": {
    "name": "ipython",
    "version": 3
   },
   "file_extension": ".py",
   "mimetype": "text/x-python",
   "name": "python",
   "nbconvert_exporter": "python",
   "pygments_lexer": "ipython3",
   "version": "3.9.6"
  }
 },
 "nbformat": 4,
 "nbformat_minor": 5
}
