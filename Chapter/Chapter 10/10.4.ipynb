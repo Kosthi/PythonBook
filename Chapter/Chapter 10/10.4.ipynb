{
 "cells": [
  {
   "cell_type": "code",
   "execution_count": 5,
   "id": "c20bb073",
   "metadata": {},
   "outputs": [
    {
     "name": "stdout",
     "output_type": "stream",
     "text": [
      "56\n"
     ]
    }
   ],
   "source": [
    "import json\n",
    "\n",
    "try:\n",
    "    with open('favorite_number.json') as f:\n",
    "        number = json.load(f)\n",
    "        print(number)\n",
    "except FileNotFoundError:\n",
    "    with open('favorite_number.json', 'w') as f:\n",
    "        number = input('Enter your favorite number ')\n",
    "        json.dump(number, f)"
   ]
  },
  {
   "cell_type": "code",
   "execution_count": 17,
   "id": "cdac90be",
   "metadata": {},
   "outputs": [
    {
     "name": "stdout",
     "output_type": "stream",
     "text": [
      "Are you s? (yes/no)yes\n",
      "Welcome back, s!\n"
     ]
    }
   ],
   "source": [
    "import json\n",
    "\n",
    "def get_stored_username():\n",
    "    \"\"\"如果存储了用户名，就获取它。\"\"\"\n",
    "    filename = 'username.json'\n",
    "    try:\n",
    "        with open(filename) as f:\n",
    "            username = json.load(f)\n",
    "    except FileNotFoundError:\n",
    "        return None\n",
    "    else:\n",
    "        return username\n",
    "\n",
    "def get_new_username():\n",
    "    \"\"\"提示用户输入用户名。\"\"\"\n",
    "    username = input(\"What is your name? \")\n",
    "    filename = 'username.json'\n",
    "    with open(filename, 'w') as f:\n",
    "        json.dump(username, f)\n",
    "    return username\n",
    "\n",
    "def greet_user():\n",
    "    \"\"\"问候用户，并指出其名字。\"\"\"\n",
    "    username = get_stored_username()\n",
    "    ok = input(f'Are you {username}? (yes/no)')\n",
    "    if username and ok == 'yes':\n",
    "        print(f\"Welcome back, {username}!\")\n",
    "    else:\n",
    "        username = get_new_username()\n",
    "        print(f\"We'll remember you when you come back, {username}!\")\n",
    "\n",
    "greet_user()"
   ]
  },
  {
   "cell_type": "code",
   "execution_count": null,
   "id": "79408971",
   "metadata": {},
   "outputs": [],
   "source": []
  }
 ],
 "metadata": {
  "kernelspec": {
   "display_name": "Python 3 (ipykernel)",
   "language": "python",
   "name": "python3"
  },
  "language_info": {
   "codemirror_mode": {
    "name": "ipython",
    "version": 3
   },
   "file_extension": ".py",
   "mimetype": "text/x-python",
   "name": "python",
   "nbconvert_exporter": "python",
   "pygments_lexer": "ipython3",
   "version": "3.9.6"
  }
 },
 "nbformat": 4,
 "nbformat_minor": 5
}
