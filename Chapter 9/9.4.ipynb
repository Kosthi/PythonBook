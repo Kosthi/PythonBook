{
 "cells": [
  {
   "cell_type": "code",
   "execution_count": 1,
   "id": "b8882211",
   "metadata": {},
   "outputs": [
    {
     "name": "stdout",
     "output_type": "stream",
     "text": [
      "BIk   Chinese food\n"
     ]
    }
   ],
   "source": [
    "import restaurant as res\n",
    "\n",
    "restaurant = res.Restaurant('BIk', 'Chinese food')\n",
    "restaurant.describe_restaurant()"
   ]
  },
  {
   "cell_type": "code",
   "execution_count": 7,
   "id": "e267da3d",
   "metadata": {},
   "outputs": [
    {
     "ename": "AttributeError",
     "evalue": "module 'user' has no attribute 'Admin'",
     "output_type": "error",
     "traceback": [
      "\u001b[0;31m---------------------------------------------------------------------------\u001b[0m",
      "\u001b[0;31mAttributeError\u001b[0m                            Traceback (most recent call last)",
      "Cell \u001b[0;32mIn[7], line 2\u001b[0m\n\u001b[1;32m      1\u001b[0m \u001b[38;5;28;01mimport\u001b[39;00m \u001b[38;5;21;01muser\u001b[39;00m \u001b[38;5;28;01mas\u001b[39;00m \u001b[38;5;21;01mus\u001b[39;00m\n\u001b[0;32m----> 2\u001b[0m user \u001b[38;5;241m=\u001b[39m \u001b[43mus\u001b[49m\u001b[38;5;241;43m.\u001b[39;49m\u001b[43mAdmin\u001b[49m(\u001b[38;5;124m'\u001b[39m\u001b[38;5;124mYimin\u001b[39m\u001b[38;5;124m'\u001b[39m, \u001b[38;5;124m'\u001b[39m\u001b[38;5;124mWu\u001b[39m\u001b[38;5;124m'\u001b[39m, \u001b[38;5;241m18\u001b[39m, \u001b[38;5;241m1.72\u001b[39m)\n\u001b[1;32m      3\u001b[0m user\u001b[38;5;241m.\u001b[39mdescribe_user()\n\u001b[1;32m      4\u001b[0m user\u001b[38;5;241m.\u001b[39mprivileges\u001b[38;5;241m.\u001b[39mshow_privileges()\n",
      "\u001b[0;31mAttributeError\u001b[0m: module 'user' has no attribute 'Admin'"
     ]
    }
   ],
   "source": [
    "import user as us\n",
    "user = us.Admin('Yimin', 'Wu', 18, 1.72)\n",
    "user.describe_user()\n",
    "user.privileges.show_privileges()"
   ]
  },
  {
   "cell_type": "code",
   "execution_count": 8,
   "id": "5f4d76d9",
   "metadata": {},
   "outputs": [
    {
     "name": "stdout",
     "output_type": "stream",
     "text": [
      "Name: Wu Yimin Age: 20 Height: 1.88\n",
      "Can add post\n",
      "Can delete post\n",
      "Can ban user\n"
     ]
    }
   ],
   "source": [
    "import admin as ad\n",
    "admin = ad.Admin('Yimin', 'Wu', 20, 1.88)\n",
    "admin.describe_user()\n",
    "admin.privileges.show_privileges()"
   ]
  },
  {
   "cell_type": "code",
   "execution_count": null,
   "id": "f65a9a68",
   "metadata": {},
   "outputs": [],
   "source": []
  }
 ],
 "metadata": {
  "kernelspec": {
   "display_name": "Python 3 (ipykernel)",
   "language": "python",
   "name": "python3"
  },
  "language_info": {
   "codemirror_mode": {
    "name": "ipython",
    "version": 3
   },
   "file_extension": ".py",
   "mimetype": "text/x-python",
   "name": "python",
   "nbconvert_exporter": "python",
   "pygments_lexer": "ipython3",
   "version": "3.9.6"
  }
 },
 "nbformat": 4,
 "nbformat_minor": 5
}
