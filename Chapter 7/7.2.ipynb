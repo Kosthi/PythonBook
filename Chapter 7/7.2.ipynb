{
 "cells": [
  {
   "cell_type": "code",
   "execution_count": null,
   "id": "3e6eca02",
   "metadata": {},
   "outputs": [],
   "source": [
    "# message = ''\n",
    "# while message != 'quit':\n",
    "#     message = input(\"What pizza do you want?\")\n",
    "#     if message != 'quit':\n",
    "#         print(f\"We will add {message}\")"
   ]
  },
  {
   "cell_type": "code",
   "execution_count": null,
   "id": "41ef3b76",
   "metadata": {},
   "outputs": [],
   "source": [
    "# while True:\n",
    "#     age = int(input(\"What is your age?\"))\n",
    "#     if age < 3:\n",
    "#         print(\"You do not to pay\")\n",
    "#     elif age <= 12:\n",
    "#         print(\"You need to pay $10\")\n",
    "#     else:\n",
    "#         print(\"You need to pay $15\")"
   ]
  },
  {
   "cell_type": "code",
   "execution_count": null,
   "id": "0d90f5c4",
   "metadata": {},
   "outputs": [],
   "source": [
    "age = ''\n",
    "while age != 'quit':\n",
    "    age = input(\"What is your age?\")\n",
    "    if not age.isdigit():\n",
    "        continue\n",
    "    age = int(age)\n",
    "    if age < 3:\n",
    "        print(\"You do not to pay\")\n",
    "    elif age <= 12:\n",
    "        print(\"You need to pay $10\")\n",
    "    else:\n",
    "        print(\"You need to pay $15\")\n",
    "\n",
    "# active = True\n",
    "# while active:\n",
    "#     age = input(\"What is your age?\")\n",
    "#     if (age == 'quit'):\n",
    "#         active = False\n",
    "#     else:\n",
    "#         age = int(age)\n",
    "#         if age < 3:\n",
    "#             print(\"You do not to pay\")\n",
    "#         elif age <= 12:\n",
    "#             print(\"You need to pay $10\")\n",
    "#         else:\n",
    "#             print(\"You need to pay $15\")\n",
    "\n",
    "# while True:\n",
    "#     age = input(\"What is your age?\")\n",
    "#     if (age == 'quit'):\n",
    "#         break\n",
    "#     age = int(age)\n",
    "#     if age < 3:\n",
    "#         print(\"You do not to pay\")\n",
    "#     elif age <= 12:\n",
    "#         print(\"You need to pay $10\")\n",
    "#     else:\n",
    "#         print(\"You need to pay $15\")"
   ]
  },
  {
   "cell_type": "code",
   "execution_count": null,
   "id": "d52bed8e",
   "metadata": {},
   "outputs": [],
   "source": [
    "while True:\n",
    "    print(1)"
   ]
  },
  {
   "cell_type": "code",
   "execution_count": null,
   "id": "079f4f2c",
   "metadata": {},
   "outputs": [],
   "source": []
  }
 ],
 "metadata": {
  "kernelspec": {
   "display_name": "Python 3 (ipykernel)",
   "language": "python",
   "name": "python3"
  },
  "language_info": {
   "codemirror_mode": {
    "name": "ipython",
    "version": 3
   },
   "file_extension": ".py",
   "mimetype": "text/x-python",
   "name": "python",
   "nbconvert_exporter": "python",
   "pygments_lexer": "ipython3",
   "version": "3.9.6"
  }
 },
 "nbformat": 4,
 "nbformat_minor": 5
}
