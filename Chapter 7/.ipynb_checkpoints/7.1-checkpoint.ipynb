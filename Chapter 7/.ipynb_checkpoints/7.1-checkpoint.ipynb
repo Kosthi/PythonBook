{
 "cells": [
  {
   "cell_type": "code",
   "execution_count": 3,
   "id": "9dfb71ec",
   "metadata": {},
   "outputs": [
    {
     "name": "stdout",
     "output_type": "stream",
     "text": [
      "What car do you want?bao\n",
      "Let me see if I can find you a bao\n"
     ]
    }
   ],
   "source": [
    "car = input(\"What car do you want?\")\n",
    "print(f\"Let me see if I can find you a {car}\")"
   ]
  },
  {
   "cell_type": "code",
   "execution_count": 6,
   "id": "7998ad15",
   "metadata": {},
   "outputs": [
    {
     "name": "stdout",
     "output_type": "stream",
     "text": [
      "What people do you have?1\n",
      "Welcome to our home\n"
     ]
    }
   ],
   "source": [
    "num = int(input(\"What people do you have?\"))\n",
    "if num > 8:\n",
    "    print(\"We are out of seat\")\n",
    "else:\n",
    "    print(\"Welcome to our home\")"
   ]
  },
  {
   "cell_type": "code",
   "execution_count": 8,
   "id": "c48310e6",
   "metadata": {},
   "outputs": [
    {
     "name": "stdout",
     "output_type": "stream",
     "text": [
      "Input a number0\n",
      "The number is zhengsu\n"
     ]
    }
   ],
   "source": [
    "num = int(input(\"Input a number\"))\n",
    "if num % 10 == 0:\n",
    "    print(\"The number is zhengsu\")"
   ]
  },
  {
   "cell_type": "code",
   "execution_count": null,
   "id": "f44e7e0a",
   "metadata": {},
   "outputs": [],
   "source": []
  }
 ],
 "metadata": {
  "kernelspec": {
   "display_name": "Python 3 (ipykernel)",
   "language": "python",
   "name": "python3"
  },
  "language_info": {
   "codemirror_mode": {
    "name": "ipython",
    "version": 3
   },
   "file_extension": ".py",
   "mimetype": "text/x-python",
   "name": "python",
   "nbconvert_exporter": "python",
   "pygments_lexer": "ipython3",
   "version": "3.9.6"
  }
 },
 "nbformat": 4,
 "nbformat_minor": 5
}
