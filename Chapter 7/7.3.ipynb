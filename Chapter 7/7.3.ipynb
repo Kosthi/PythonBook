{
 "cells": [
  {
   "cell_type": "code",
   "execution_count": 3,
   "id": "90784792",
   "metadata": {},
   "outputs": [
    {
     "name": "stdout",
     "output_type": "stream",
     "text": [
      "I made you PP\n",
      "I made you Io\n",
      "I made you Orange\n",
      "I made you Age\n",
      "I made you Pink\n",
      "['PP', 'Io', 'Orange', 'Age', 'Pink']\n"
     ]
    }
   ],
   "source": [
    "sandwich_orders = ['Pink', 'Age', 'Orange', 'Io', 'PP']\n",
    "finished_sandwich = []\n",
    "while sandwich_orders:\n",
    "    sandwich = sandwich_orders.pop()\n",
    "    print(f\"I made you {sandwich}\")\n",
    "    finished_sandwich.append(sandwich)\n",
    "print(finished_sandwich)"
   ]
  },
  {
   "cell_type": "code",
   "execution_count": 4,
   "id": "d0a9169d",
   "metadata": {},
   "outputs": [
    {
     "name": "stdout",
     "output_type": "stream",
     "text": [
      "Sorry, pastrami is out\n",
      "I made you PP\n",
      "I made you Orange\n",
      "I made you Age\n",
      "I made you Pink\n",
      "['PP', 'Orange', 'Age', 'Pink']\n"
     ]
    }
   ],
   "source": [
    "sandwich_orders = ['Pink', 'Age', 'Orange', 'pastrami', 'PP', 'pastrami', 'pastrami']\n",
    "finished_sandwich = []\n",
    "print(\"Sorry, pastrami is out\")\n",
    "while 'pastrami' in sandwich_orders:\n",
    "    sandwich_orders.remove('pastrami')\n",
    "while sandwich_orders:\n",
    "    sandwich = sandwich_orders.pop()\n",
    "    print(f\"I made you {sandwich}\")\n",
    "    finished_sandwich.append(sandwich)\n",
    "print(finished_sandwich)"
   ]
  },
  {
   "cell_type": "code",
   "execution_count": 5,
   "id": "82905fa1",
   "metadata": {},
   "outputs": [
    {
     "name": "stdout",
     "output_type": "stream",
     "text": [
      "Hello, what's your name? Mike\n",
      "Hi, Mike. If you could visit one place in the world, where would you go? Opp\n",
      "Do we need to find next people? (yes / no)yes\n",
      "Hello, what's your name? ii\n",
      "Hi, ii. If you could visit one place in the world, where would you go? pp\n",
      "Do we need to find next people? (yes / no)yes\n",
      "Hello, what's your name? Y\n",
      "Hi, Y. If you could visit one place in the world, where would you go? i\n",
      "Do we need to find next people? (yes / no)\n",
      "Hello, what's your name? Qq\n",
      "Hi, Qq. If you could visit one place in the world, where would you go? Jk\n",
      "Do we need to find next people? (yes / no)no\n",
      "Mike, you like Opp\n",
      "ii, you like pp\n",
      "Y, you like i\n",
      "Qq, you like Jk\n"
     ]
    }
   ],
   "source": [
    "poll = {}\n",
    "while True:\n",
    "    name = input(\"Hello, what's your name? \")\n",
    "    place = input(f\"Hi, {name}. If you could visit one place in the world, where would you go? \")\n",
    "    poll[name] = place\n",
    "    option = input(\"Do we need to find next people? (yes / no) \")\n",
    "    if option == 'no':\n",
    "        break\n",
    "for name, place in poll.items():\n",
    "    print(f\"{name}, you like {place}\")"
   ]
  },
  {
   "cell_type": "code",
   "execution_count": null,
   "id": "c5f66b4f",
   "metadata": {},
   "outputs": [],
   "source": []
  }
 ],
 "metadata": {
  "kernelspec": {
   "display_name": "Python 3 (ipykernel)",
   "language": "python",
   "name": "python3"
  },
  "language_info": {
   "codemirror_mode": {
    "name": "ipython",
    "version": 3
   },
   "file_extension": ".py",
   "mimetype": "text/x-python",
   "name": "python",
   "nbconvert_exporter": "python",
   "pygments_lexer": "ipython3",
   "version": "3.9.6"
  }
 },
 "nbformat": 4,
 "nbformat_minor": 5
}
