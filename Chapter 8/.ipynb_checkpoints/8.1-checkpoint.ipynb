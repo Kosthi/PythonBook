{
 "cells": [
  {
   "cell_type": "code",
   "execution_count": 3,
   "id": "edc856b2",
   "metadata": {},
   "outputs": [
    {
     "name": "stdout",
     "output_type": "stream",
     "text": [
      "I am learning function in Python\n",
      "I am learning function in Python\n"
     ]
    }
   ],
   "source": [
    "def display_message():\n",
    "    print(\"I am learning function in Python\")\n",
    "display_message()"
   ]
  },
  {
   "cell_type": "code",
   "execution_count": 5,
   "id": "c2f5e46c",
   "metadata": {},
   "outputs": [
    {
     "name": "stdout",
     "output_type": "stream",
     "text": [
      "one of my favorite book is Alice In Forset\n"
     ]
    }
   ],
   "source": [
    "def favorite_book(title):\n",
    "    print(f\"one of my favorite book is {title.title()}\")\n",
    "favorite_book(\"alice in forset\")"
   ]
  },
  {
   "cell_type": "code",
   "execution_count": null,
   "id": "c450b296",
   "metadata": {},
   "outputs": [],
   "source": []
  }
 ],
 "metadata": {
  "kernelspec": {
   "display_name": "Python 3 (ipykernel)",
   "language": "python",
   "name": "python3"
  },
  "language_info": {
   "codemirror_mode": {
    "name": "ipython",
    "version": 3
   },
   "file_extension": ".py",
   "mimetype": "text/x-python",
   "name": "python",
   "nbconvert_exporter": "python",
   "pygments_lexer": "ipython3",
   "version": "3.9.6"
  }
 },
 "nbformat": 4,
 "nbformat_minor": 5
}
