{
 "cells": [
  {
   "cell_type": "code",
   "execution_count": 13,
   "id": "4d6f36cd",
   "metadata": {},
   "outputs": [
    {
     "name": "stdout",
     "output_type": "stream",
     "text": [
      "Nihao\n",
      "Wodejia\n",
      "woxinyijiu\n"
     ]
    }
   ],
   "source": [
    "def show_message(messages):\n",
    "    for message in messages:\n",
    "        print(f\"{message}\")\n",
    "\n",
    "messages = [\"Nihao\", \"Wodejia\", \"woxinyijiu\"]\n",
    "show_message(messages)"
   ]
  },
  {
   "cell_type": "code",
   "execution_count": 18,
   "id": "df55b650",
   "metadata": {},
   "outputs": [],
   "source": [
    "sent_message = []\n",
    "def send_message(messages):\n",
    "    while messages:\n",
    "        message = messages.pop()\n",
    "        sent_message.append(message)\n",
    "# send_message(messages)\n",
    "# print(messages)\n",
    "# print(sent_message)"
   ]
  },
  {
   "cell_type": "code",
   "execution_count": 19,
   "id": "84a2631e",
   "metadata": {},
   "outputs": [
    {
     "name": "stdout",
     "output_type": "stream",
     "text": [
      "['Nihao', 'Wodejia', 'woxinyijiu']\n",
      "['woxinyijiu', 'Wodejia', 'Nihao']\n"
     ]
    }
   ],
   "source": [
    "send_message(messages[:])\n",
    "print(messages)\n",
    "print(sent_message)"
   ]
  },
  {
   "cell_type": "code",
   "execution_count": null,
   "id": "a28e6993",
   "metadata": {},
   "outputs": [],
   "source": []
  }
 ],
 "metadata": {
  "kernelspec": {
   "display_name": "Python 3 (ipykernel)",
   "language": "python",
   "name": "python3"
  },
  "language_info": {
   "codemirror_mode": {
    "name": "ipython",
    "version": 3
   },
   "file_extension": ".py",
   "mimetype": "text/x-python",
   "name": "python",
   "nbconvert_exporter": "python",
   "pygments_lexer": "ipython3",
   "version": "3.9.6"
  }
 },
 "nbformat": 4,
 "nbformat_minor": 5
}
