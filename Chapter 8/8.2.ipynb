{
 "cells": [
  {
   "cell_type": "code",
   "execution_count": null,
   "id": "f140e3bf",
   "metadata": {},
   "outputs": [],
   "source": [
    "def make_shirt(size, logo):\n",
    "    print(f\"Your shirt have a {logo} with {size} sizes\")\n",
    "make_shirt(2.3, \"Superme\")\n",
    "make_shirt(logo = 'Band', size = 9)"
   ]
  },
  {
   "cell_type": "code",
   "execution_count": null,
   "id": "82521036",
   "metadata": {},
   "outputs": [],
   "source": [
    "def make_shirt(size, logo = 'I love Python'):\n",
    "    print(f\"Your shirt have a {logo} with {size} sizes\")\n",
    "make_shirt(88)\n",
    "make_shirt(50)\n",
    "make_shirt(8, \"I love Java\")"
   ]
  },
  {
   "cell_type": "code",
   "execution_count": 4,
   "id": "2d3ad987",
   "metadata": {},
   "outputs": [
    {
     "name": "stdout",
     "output_type": "stream",
     "text": [
      "Wenzhou is in China\n",
      "Jilin is in China\n",
      "Beijing is in US\n"
     ]
    }
   ],
   "source": [
    "def describe_city(city, country = 'China'):\n",
    "    print(f\"{city} is in {country}\")\n",
    "describe_city('Wenzhou')\n",
    "describe_city('Jilin')\n",
    "describe_city(country = 'US', city = 'Beijing')"
   ]
  },
  {
   "cell_type": "code",
   "execution_count": null,
   "id": "491dfa85",
   "metadata": {},
   "outputs": [],
   "source": []
  }
 ],
 "metadata": {
  "kernelspec": {
   "display_name": "Python 3 (ipykernel)",
   "language": "python",
   "name": "python3"
  },
  "language_info": {
   "codemirror_mode": {
    "name": "ipython",
    "version": 3
   },
   "file_extension": ".py",
   "mimetype": "text/x-python",
   "name": "python",
   "nbconvert_exporter": "python",
   "pygments_lexer": "ipython3",
   "version": "3.9.6"
  }
 },
 "nbformat": 4,
 "nbformat_minor": 5
}
