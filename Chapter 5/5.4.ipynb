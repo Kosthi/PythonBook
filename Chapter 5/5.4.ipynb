{
 "cells": [
  {
   "cell_type": "code",
   "execution_count": 4,
   "id": "d3cf1495",
   "metadata": {},
   "outputs": [
    {
     "name": "stdout",
     "output_type": "stream",
     "text": [
      "Hello admin, would like to see a status report\n",
      "Hello Koschei, thank you for your logging in again\n",
      "Hello Lithi, thank you for your logging in again\n",
      "Hello Mike, thank you for your logging in again\n",
      "Hello John, thank you for your logging in again\n"
     ]
    }
   ],
   "source": [
    "users = ['admin', 'Koschei', 'Lithi', 'Mike', 'John']\n",
    "for user in users:\n",
    "    if (user == 'admin'):\n",
    "        print(\"Hello admin, would like to see a status report\")\n",
    "    else:\n",
    "        print(f\"Hello {user}, thank you for your logging in again\")"
   ]
  },
  {
   "cell_type": "code",
   "execution_count": 5,
   "id": "1bcaad6a",
   "metadata": {},
   "outputs": [
    {
     "name": "stdout",
     "output_type": "stream",
     "text": [
      "We need to find some users!\n"
     ]
    }
   ],
   "source": [
    "users = ['admin', 'Koschei', 'Lithi', 'Mike', 'John']\n",
    "users.clear()\n",
    "if users:\n",
    "    for user in users:\n",
    "        if (user == 'admin'):\n",
    "            print(\"Hello admin, would like to see a status report\")\n",
    "        else:\n",
    "            print(f\"Hello {user}, thank you for your logging in again\")\n",
    "else:\n",
    "    print(\"We need to find some users!\")"
   ]
  },
  {
   "cell_type": "code",
   "execution_count": null,
   "id": "747c8750",
   "metadata": {},
   "outputs": [],
   "source": []
  }
 ],
 "metadata": {
  "kernelspec": {
   "display_name": "Python 3 (ipykernel)",
   "language": "python",
   "name": "python3"
  },
  "language_info": {
   "codemirror_mode": {
    "name": "ipython",
    "version": 3
   },
   "file_extension": ".py",
   "mimetype": "text/x-python",
   "name": "python",
   "nbconvert_exporter": "python",
   "pygments_lexer": "ipython3",
   "version": "3.9.6"
  }
 },
 "nbformat": 4,
 "nbformat_minor": 5
}
