{
 "cells": [
  {
   "cell_type": "code",
   "execution_count": 4,
   "id": "d3cf1495",
   "metadata": {},
   "outputs": [
    {
     "name": "stdout",
     "output_type": "stream",
     "text": [
      "Hello admin, would like to see a status report\n",
      "Hello Koschei, thank you for your logging in again\n",
      "Hello Lithi, thank you for your logging in again\n",
      "Hello Mike, thank you for your logging in again\n",
      "Hello John, thank you for your logging in again\n"
     ]
    }
   ],
   "source": [
    "users = ['admin', 'Koschei', 'Lithi', 'Mike', 'John']\n",
    "for user in users:\n",
    "    if (user == 'admin'):\n",
    "        print(\"Hello admin, would like to see a status report\")\n",
    "    else:\n",
    "        print(f\"Hello {user}, thank you for your logging in again\")"
   ]
  },
  {
   "cell_type": "code",
   "execution_count": 5,
   "id": "1bcaad6a",
   "metadata": {},
   "outputs": [
    {
     "name": "stdout",
     "output_type": "stream",
     "text": [
      "We need to find some users!\n"
     ]
    }
   ],
   "source": [
    "users = ['admin', 'Koschei', 'Lithi', 'Mike', 'John']\n",
    "users.clear()\n",
    "if users:\n",
    "    for user in users:\n",
    "        if (user == 'admin'):\n",
    "            print(\"Hello admin, would like to see a status report\")\n",
    "        else:\n",
    "            print(f\"Hello {user}, thank you for your logging in again\")\n",
    "else:\n",
    "    print(\"We need to find some users!\")"
   ]
  },
  {
   "cell_type": "code",
   "execution_count": 8,
   "id": "747c8750",
   "metadata": {},
   "outputs": [
    {
     "name": "stdout",
     "output_type": "stream",
     "text": [
      "the user is not in list\n",
      "the user is not in list\n",
      "the user is not in list\n",
      "the user is not in list\n",
      "the user is not in list\n",
      "user is included\n",
      "the user is not in list\n",
      "the user is not in list\n",
      "the user is not in list\n",
      "the user is not in list\n"
     ]
    }
   ],
   "source": [
    "current_users = ['admin', 'Koschei', 'Lithi', 'Mike', 'John']\n",
    "new_users = ['koschei', 'Jimmy', 'Kio', 'Lon', 'Ipoo']\n",
    "\n",
    "for user in new_users:\n",
    "    if user not in current_users:\n",
    "        print(\"the user is not in list\")\n",
    "    else:\n",
    "        print(\"user is included\")\n",
    "        \n",
    "lower_current_users = []\n",
    "for user in current_users:\n",
    "    lower_current_users.append(user.lower())\n",
    "for user in new_users:\n",
    "    if user.lower() not in lower_current_users:\n",
    "        print(\"the user is not in list\")\n",
    "    else:\n",
    "        print(\"user is included\")"
   ]
  },
  {
   "cell_type": "code",
   "execution_count": 12,
   "id": "1f764566",
   "metadata": {},
   "outputs": [
    {
     "name": "stdout",
     "output_type": "stream",
     "text": [
      "1st\n",
      "2nd\n",
      "3rd\n",
      "4th\n",
      "5th\n",
      "6th\n",
      "7th\n",
      "8th\n",
      "9th\n"
     ]
    }
   ],
   "source": [
    "numbers = [i for i in range(1, 10)]\n",
    "for number in numbers:\n",
    "    if number == 1:\n",
    "        print(\"1st\")\n",
    "    elif number == 2:\n",
    "        print(\"2nd\")\n",
    "    elif number == 3:\n",
    "        print(\"3rd\")\n",
    "    else:\n",
    "        print(f\"{number}th\")"
   ]
  },
  {
   "cell_type": "code",
   "execution_count": null,
   "id": "db2d2f51",
   "metadata": {},
   "outputs": [],
   "source": []
  }
 ],
 "metadata": {
  "kernelspec": {
   "display_name": "Python 3 (ipykernel)",
   "language": "python",
   "name": "python3"
  },
  "language_info": {
   "codemirror_mode": {
    "name": "ipython",
    "version": 3
   },
   "file_extension": ".py",
   "mimetype": "text/x-python",
   "name": "python",
   "nbconvert_exporter": "python",
   "pygments_lexer": "ipython3",
   "version": "3.9.6"
  }
 },
 "nbformat": 4,
 "nbformat_minor": 5
}
