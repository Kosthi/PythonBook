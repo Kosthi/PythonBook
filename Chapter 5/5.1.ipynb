{
 "cells": [
  {
   "cell_type": "code",
   "execution_count": 57,
   "id": "9b28188d",
   "metadata": {},
   "outputs": [
    {
     "name": "stdout",
     "output_type": "stream",
     "text": [
      "Is car == 'subaru'? I predict True.\n",
      "True\n",
      "\n",
      "Is car == 'audi'? I predict False.\n",
      "False\n",
      "\n",
      "Is car == 'audi'? I predict True.\n",
      "True\n",
      "\n",
      "Is car == 'mook'? I predict False.\n",
      "True\n",
      "True\n",
      "True\n",
      "False\n",
      "False\n",
      "True\n",
      "False\n",
      "True\n",
      "False\n",
      "True\n"
     ]
    }
   ],
   "source": [
    "car = 'subaru'\n",
    "print(\"Is car == 'subaru'? I predict True.\")\n",
    "print(car == 'subaru')\n",
    "\n",
    "print(\"\\nIs car == 'audi'? I predict False.\")\n",
    "print(car == 'audi')\n",
    "\n",
    "car = 'audi'\n",
    "print(\"\\nIs car == 'audi'? I predict True.\")\n",
    "print(car == 'audi')\n",
    "\n",
    "car = 'mook'\n",
    "print(\"\\nIs car == 'mook'? I predict False.\")\n",
    "print(car == 'mook')\n",
    "\n",
    "print(10 > 1)\n",
    "print(0 > -1)\n",
    "print('a' > 'b')\n",
    "print('A' > 'B')\n",
    "print('A' < 'B')\n",
    "print(66 < 7)\n",
    "print('8' > '&')\n",
    "print(99 != 99)\n",
    "print(99 != 1)"
   ]
  },
  {
   "cell_type": "code",
   "execution_count": null,
   "id": "8be5aa47",
   "metadata": {},
   "outputs": [],
   "source": []
  }
 ],
 "metadata": {
  "kernelspec": {
   "display_name": "Python 3 (ipykernel)",
   "language": "python",
   "name": "python3"
  },
  "language_info": {
   "codemirror_mode": {
    "name": "ipython",
    "version": 3
   },
   "file_extension": ".py",
   "mimetype": "text/x-python",
   "name": "python",
   "nbconvert_exporter": "python",
   "pygments_lexer": "ipython3",
   "version": "3.9.6"
  }
 },
 "nbformat": 4,
 "nbformat_minor": 5
}
